{
 "cells": [
  {
   "cell_type": "markdown",
   "id": "narrative-ready",
   "metadata": {},
   "source": [
    "In this project you are going to predict the overall rating of soccer player based on their attributes such as crossing, finishing etc."
   ]
  },
  {
   "cell_type": "code",
   "execution_count": 1,
   "id": "handed-confidentiality",
   "metadata": {},
   "outputs": [],
   "source": [
    "import sqlite3\n",
    "import numpy as np\n",
    "import pandas as pd\n",
    "%matplotlib notebook\n",
    "import matplotlib.pyplot as plt\n",
    "import xgboost as xgb\n",
    "from xgboost.sklearn import XGBRegressor\n",
    "from xgboost import plot_importance\n",
    "\n",
    "from sklearn.linear_model import LinearRegression\n",
    "from sklearn.tree import DecisionTreeRegressor\n",
    "from sklearn.ensemble import RandomForestRegressor\n",
    "from sklearn.preprocessing import StandardScaler\n",
    "from sklearn.feature_selection import SelectFromModel\n",
    "from sklearn.model_selection import train_test_split, GridSearchCV, ShuffleSplit, RandomizedSearchCV\n",
    "from sklearn.pipeline import make_pipeline\n",
    "\n",
    "import pickle"
   ]
  },
  {
   "cell_type": "code",
   "execution_count": 2,
   "id": "handy-leone",
   "metadata": {},
   "outputs": [],
   "source": [
    "from sklearn.impute import SimpleImputer\n",
    "imputer = SimpleImputer(missing_values=np.nan, strategy='mean')"
   ]
  },
  {
   "cell_type": "code",
   "execution_count": 3,
   "id": "ranging-device",
   "metadata": {},
   "outputs": [],
   "source": [
    "##### Reading Data from the Database into pandas\n",
    "\n",
    "cnx = sqlite3.connect('database.sqlite')"
   ]
  },
  {
   "cell_type": "code",
   "execution_count": 4,
   "id": "nervous-december",
   "metadata": {},
   "outputs": [],
   "source": [
    "df= pd.read_sql_query(\"SELECT * FROM Player_Attributes\", cnx)"
   ]
  },
  {
   "cell_type": "code",
   "execution_count": 5,
   "id": "gentle-reference",
   "metadata": {},
   "outputs": [
    {
     "name": "stdout",
     "output_type": "stream",
     "text": [
      "            id  player_fifa_api_id  player_api_id                 date  \\\n",
      "0            1              218353         505942  2016-02-18 00:00:00   \n",
      "1            2              218353         505942  2015-11-19 00:00:00   \n",
      "2            3              218353         505942  2015-09-21 00:00:00   \n",
      "3            4              218353         505942  2015-03-20 00:00:00   \n",
      "4            5              218353         505942  2007-02-22 00:00:00   \n",
      "...        ...                 ...            ...                  ...   \n",
      "183973  183974              102359          39902  2009-08-30 00:00:00   \n",
      "183974  183975              102359          39902  2009-02-22 00:00:00   \n",
      "183975  183976              102359          39902  2008-08-30 00:00:00   \n",
      "183976  183977              102359          39902  2007-08-30 00:00:00   \n",
      "183977  183978              102359          39902  2007-02-22 00:00:00   \n",
      "\n",
      "        overall_rating  potential preferred_foot attacking_work_rate  \\\n",
      "0                 67.0       71.0          right              medium   \n",
      "1                 67.0       71.0          right              medium   \n",
      "2                 62.0       66.0          right              medium   \n",
      "3                 61.0       65.0          right              medium   \n",
      "4                 61.0       65.0          right              medium   \n",
      "...                ...        ...            ...                 ...   \n",
      "183973            83.0       85.0          right              medium   \n",
      "183974            78.0       80.0          right              medium   \n",
      "183975            77.0       80.0          right              medium   \n",
      "183976            78.0       81.0          right              medium   \n",
      "183977            80.0       81.0          right              medium   \n",
      "\n",
      "       defensive_work_rate  crossing  ...  vision  penalties  marking  \\\n",
      "0                   medium      49.0  ...    54.0       48.0     65.0   \n",
      "1                   medium      49.0  ...    54.0       48.0     65.0   \n",
      "2                   medium      49.0  ...    54.0       48.0     65.0   \n",
      "3                   medium      48.0  ...    53.0       47.0     62.0   \n",
      "4                   medium      48.0  ...    53.0       47.0     62.0   \n",
      "...                    ...       ...  ...     ...        ...      ...   \n",
      "183973                 low      84.0  ...    88.0       83.0     22.0   \n",
      "183974                 low      74.0  ...    88.0       70.0     32.0   \n",
      "183975                 low      74.0  ...    88.0       70.0     32.0   \n",
      "183976                 low      74.0  ...    88.0       53.0     28.0   \n",
      "183977                 low      74.0  ...    88.0       53.0     38.0   \n",
      "\n",
      "        standing_tackle  sliding_tackle  gk_diving  gk_handling  gk_kicking  \\\n",
      "0                  69.0            69.0        6.0         11.0        10.0   \n",
      "1                  69.0            69.0        6.0         11.0        10.0   \n",
      "2                  66.0            69.0        6.0         11.0        10.0   \n",
      "3                  63.0            66.0        5.0         10.0         9.0   \n",
      "4                  63.0            66.0        5.0         10.0         9.0   \n",
      "...                 ...             ...        ...          ...         ...   \n",
      "183973             31.0            30.0        9.0         20.0        84.0   \n",
      "183974             31.0            30.0        9.0         20.0        73.0   \n",
      "183975             31.0            30.0        9.0         20.0        73.0   \n",
      "183976             32.0            30.0        9.0         20.0        73.0   \n",
      "183977             32.0            30.0        9.0          9.0        78.0   \n",
      "\n",
      "        gk_positioning  gk_reflexes  \n",
      "0                  8.0          8.0  \n",
      "1                  8.0          8.0  \n",
      "2                  8.0          8.0  \n",
      "3                  7.0          7.0  \n",
      "4                  7.0          7.0  \n",
      "...                ...          ...  \n",
      "183973            20.0         20.0  \n",
      "183974            20.0         20.0  \n",
      "183975            20.0         20.0  \n",
      "183976            20.0         20.0  \n",
      "183977             7.0         15.0  \n",
      "\n",
      "[183978 rows x 42 columns]\n"
     ]
    }
   ],
   "source": [
    "print(df)\n"
   ]
  },
  {
   "cell_type": "code",
   "execution_count": 6,
   "id": "indie-perth",
   "metadata": {},
   "outputs": [
    {
     "data": {
      "text/html": [
       "<div>\n",
       "<style scoped>\n",
       "    .dataframe tbody tr th:only-of-type {\n",
       "        vertical-align: middle;\n",
       "    }\n",
       "\n",
       "    .dataframe tbody tr th {\n",
       "        vertical-align: top;\n",
       "    }\n",
       "\n",
       "    .dataframe thead th {\n",
       "        text-align: right;\n",
       "    }\n",
       "</style>\n",
       "<table border=\"1\" class=\"dataframe\">\n",
       "  <thead>\n",
       "    <tr style=\"text-align: right;\">\n",
       "      <th></th>\n",
       "      <th>id</th>\n",
       "      <th>player_fifa_api_id</th>\n",
       "      <th>player_api_id</th>\n",
       "      <th>date</th>\n",
       "      <th>overall_rating</th>\n",
       "      <th>potential</th>\n",
       "      <th>preferred_foot</th>\n",
       "      <th>attacking_work_rate</th>\n",
       "      <th>defensive_work_rate</th>\n",
       "      <th>crossing</th>\n",
       "      <th>...</th>\n",
       "      <th>vision</th>\n",
       "      <th>penalties</th>\n",
       "      <th>marking</th>\n",
       "      <th>standing_tackle</th>\n",
       "      <th>sliding_tackle</th>\n",
       "      <th>gk_diving</th>\n",
       "      <th>gk_handling</th>\n",
       "      <th>gk_kicking</th>\n",
       "      <th>gk_positioning</th>\n",
       "      <th>gk_reflexes</th>\n",
       "    </tr>\n",
       "  </thead>\n",
       "  <tbody>\n",
       "    <tr>\n",
       "      <th>0</th>\n",
       "      <td>1</td>\n",
       "      <td>218353</td>\n",
       "      <td>505942</td>\n",
       "      <td>2016-02-18 00:00:00</td>\n",
       "      <td>67.0</td>\n",
       "      <td>71.0</td>\n",
       "      <td>right</td>\n",
       "      <td>medium</td>\n",
       "      <td>medium</td>\n",
       "      <td>49.0</td>\n",
       "      <td>...</td>\n",
       "      <td>54.0</td>\n",
       "      <td>48.0</td>\n",
       "      <td>65.0</td>\n",
       "      <td>69.0</td>\n",
       "      <td>69.0</td>\n",
       "      <td>6.0</td>\n",
       "      <td>11.0</td>\n",
       "      <td>10.0</td>\n",
       "      <td>8.0</td>\n",
       "      <td>8.0</td>\n",
       "    </tr>\n",
       "    <tr>\n",
       "      <th>1</th>\n",
       "      <td>2</td>\n",
       "      <td>218353</td>\n",
       "      <td>505942</td>\n",
       "      <td>2015-11-19 00:00:00</td>\n",
       "      <td>67.0</td>\n",
       "      <td>71.0</td>\n",
       "      <td>right</td>\n",
       "      <td>medium</td>\n",
       "      <td>medium</td>\n",
       "      <td>49.0</td>\n",
       "      <td>...</td>\n",
       "      <td>54.0</td>\n",
       "      <td>48.0</td>\n",
       "      <td>65.0</td>\n",
       "      <td>69.0</td>\n",
       "      <td>69.0</td>\n",
       "      <td>6.0</td>\n",
       "      <td>11.0</td>\n",
       "      <td>10.0</td>\n",
       "      <td>8.0</td>\n",
       "      <td>8.0</td>\n",
       "    </tr>\n",
       "    <tr>\n",
       "      <th>2</th>\n",
       "      <td>3</td>\n",
       "      <td>218353</td>\n",
       "      <td>505942</td>\n",
       "      <td>2015-09-21 00:00:00</td>\n",
       "      <td>62.0</td>\n",
       "      <td>66.0</td>\n",
       "      <td>right</td>\n",
       "      <td>medium</td>\n",
       "      <td>medium</td>\n",
       "      <td>49.0</td>\n",
       "      <td>...</td>\n",
       "      <td>54.0</td>\n",
       "      <td>48.0</td>\n",
       "      <td>65.0</td>\n",
       "      <td>66.0</td>\n",
       "      <td>69.0</td>\n",
       "      <td>6.0</td>\n",
       "      <td>11.0</td>\n",
       "      <td>10.0</td>\n",
       "      <td>8.0</td>\n",
       "      <td>8.0</td>\n",
       "    </tr>\n",
       "    <tr>\n",
       "      <th>3</th>\n",
       "      <td>4</td>\n",
       "      <td>218353</td>\n",
       "      <td>505942</td>\n",
       "      <td>2015-03-20 00:00:00</td>\n",
       "      <td>61.0</td>\n",
       "      <td>65.0</td>\n",
       "      <td>right</td>\n",
       "      <td>medium</td>\n",
       "      <td>medium</td>\n",
       "      <td>48.0</td>\n",
       "      <td>...</td>\n",
       "      <td>53.0</td>\n",
       "      <td>47.0</td>\n",
       "      <td>62.0</td>\n",
       "      <td>63.0</td>\n",
       "      <td>66.0</td>\n",
       "      <td>5.0</td>\n",
       "      <td>10.0</td>\n",
       "      <td>9.0</td>\n",
       "      <td>7.0</td>\n",
       "      <td>7.0</td>\n",
       "    </tr>\n",
       "    <tr>\n",
       "      <th>4</th>\n",
       "      <td>5</td>\n",
       "      <td>218353</td>\n",
       "      <td>505942</td>\n",
       "      <td>2007-02-22 00:00:00</td>\n",
       "      <td>61.0</td>\n",
       "      <td>65.0</td>\n",
       "      <td>right</td>\n",
       "      <td>medium</td>\n",
       "      <td>medium</td>\n",
       "      <td>48.0</td>\n",
       "      <td>...</td>\n",
       "      <td>53.0</td>\n",
       "      <td>47.0</td>\n",
       "      <td>62.0</td>\n",
       "      <td>63.0</td>\n",
       "      <td>66.0</td>\n",
       "      <td>5.0</td>\n",
       "      <td>10.0</td>\n",
       "      <td>9.0</td>\n",
       "      <td>7.0</td>\n",
       "      <td>7.0</td>\n",
       "    </tr>\n",
       "  </tbody>\n",
       "</table>\n",
       "<p>5 rows × 42 columns</p>\n",
       "</div>"
      ],
      "text/plain": [
       "   id  player_fifa_api_id  player_api_id                 date  overall_rating  \\\n",
       "0   1              218353         505942  2016-02-18 00:00:00            67.0   \n",
       "1   2              218353         505942  2015-11-19 00:00:00            67.0   \n",
       "2   3              218353         505942  2015-09-21 00:00:00            62.0   \n",
       "3   4              218353         505942  2015-03-20 00:00:00            61.0   \n",
       "4   5              218353         505942  2007-02-22 00:00:00            61.0   \n",
       "\n",
       "   potential preferred_foot attacking_work_rate defensive_work_rate  crossing  \\\n",
       "0       71.0          right              medium              medium      49.0   \n",
       "1       71.0          right              medium              medium      49.0   \n",
       "2       66.0          right              medium              medium      49.0   \n",
       "3       65.0          right              medium              medium      48.0   \n",
       "4       65.0          right              medium              medium      48.0   \n",
       "\n",
       "   ...  vision  penalties  marking  standing_tackle  sliding_tackle  \\\n",
       "0  ...    54.0       48.0     65.0             69.0            69.0   \n",
       "1  ...    54.0       48.0     65.0             69.0            69.0   \n",
       "2  ...    54.0       48.0     65.0             66.0            69.0   \n",
       "3  ...    53.0       47.0     62.0             63.0            66.0   \n",
       "4  ...    53.0       47.0     62.0             63.0            66.0   \n",
       "\n",
       "   gk_diving  gk_handling  gk_kicking  gk_positioning  gk_reflexes  \n",
       "0        6.0         11.0        10.0             8.0          8.0  \n",
       "1        6.0         11.0        10.0             8.0          8.0  \n",
       "2        6.0         11.0        10.0             8.0          8.0  \n",
       "3        5.0         10.0         9.0             7.0          7.0  \n",
       "4        5.0         10.0         9.0             7.0          7.0  \n",
       "\n",
       "[5 rows x 42 columns]"
      ]
     },
     "execution_count": 6,
     "metadata": {},
     "output_type": "execute_result"
    }
   ],
   "source": [
    "df.head(5)"
   ]
  },
  {
   "cell_type": "code",
   "execution_count": 7,
   "id": "sonic-poker",
   "metadata": {},
   "outputs": [
    {
     "name": "stdout",
     "output_type": "stream",
     "text": [
      "(183978, 41)\n"
     ]
    },
    {
     "data": {
      "text/plain": [
       "0    67.0\n",
       "1    67.0\n",
       "2    62.0\n",
       "3    61.0\n",
       "4    61.0\n",
       "Name: overall_rating, dtype: float64"
      ]
     },
     "execution_count": 7,
     "metadata": {},
     "output_type": "execute_result"
    }
   ],
   "source": [
    "###### Creating Target variable:\n",
    "\n",
    "target = df.pop('overall_rating')\n",
    "\n",
    "print(df.shape)\n",
    "\n",
    "target.head(5)\n"
   ]
  },
  {
   "cell_type": "code",
   "execution_count": 8,
   "id": "comparative-terry",
   "metadata": {},
   "outputs": [
    {
     "data": {
      "text/plain": [
       "836"
      ]
     },
     "execution_count": 8,
     "metadata": {},
     "output_type": "execute_result"
    }
   ],
   "source": [
    "target.isnull().values.sum()"
   ]
  },
  {
   "cell_type": "code",
   "execution_count": 9,
   "id": "linear-investigation",
   "metadata": {},
   "outputs": [
    {
     "data": {
      "text/plain": [
       "count    183142.000000\n",
       "mean         68.600015\n",
       "std           7.041139\n",
       "min          33.000000\n",
       "25%          64.000000\n",
       "50%          69.000000\n",
       "75%          73.000000\n",
       "max          94.000000\n",
       "Name: overall_rating, dtype: float64"
      ]
     },
     "execution_count": 9,
     "metadata": {},
     "output_type": "execute_result"
    }
   ],
   "source": [
    "target.describe()\n"
   ]
  },
  {
   "cell_type": "code",
   "execution_count": 10,
   "id": "prime-likelihood",
   "metadata": {},
   "outputs": [
    {
     "data": {
      "application/javascript": [
       "/* Put everything inside the global mpl namespace */\n",
       "/* global mpl */\n",
       "window.mpl = {};\n",
       "\n",
       "mpl.get_websocket_type = function () {\n",
       "    if (typeof WebSocket !== 'undefined') {\n",
       "        return WebSocket;\n",
       "    } else if (typeof MozWebSocket !== 'undefined') {\n",
       "        return MozWebSocket;\n",
       "    } else {\n",
       "        alert(\n",
       "            'Your browser does not have WebSocket support. ' +\n",
       "                'Please try Chrome, Safari or Firefox ≥ 6. ' +\n",
       "                'Firefox 4 and 5 are also supported but you ' +\n",
       "                'have to enable WebSockets in about:config.'\n",
       "        );\n",
       "    }\n",
       "};\n",
       "\n",
       "mpl.figure = function (figure_id, websocket, ondownload, parent_element) {\n",
       "    this.id = figure_id;\n",
       "\n",
       "    this.ws = websocket;\n",
       "\n",
       "    this.supports_binary = this.ws.binaryType !== undefined;\n",
       "\n",
       "    if (!this.supports_binary) {\n",
       "        var warnings = document.getElementById('mpl-warnings');\n",
       "        if (warnings) {\n",
       "            warnings.style.display = 'block';\n",
       "            warnings.textContent =\n",
       "                'This browser does not support binary websocket messages. ' +\n",
       "                'Performance may be slow.';\n",
       "        }\n",
       "    }\n",
       "\n",
       "    this.imageObj = new Image();\n",
       "\n",
       "    this.context = undefined;\n",
       "    this.message = undefined;\n",
       "    this.canvas = undefined;\n",
       "    this.rubberband_canvas = undefined;\n",
       "    this.rubberband_context = undefined;\n",
       "    this.format_dropdown = undefined;\n",
       "\n",
       "    this.image_mode = 'full';\n",
       "\n",
       "    this.root = document.createElement('div');\n",
       "    this.root.setAttribute('style', 'display: inline-block');\n",
       "    this._root_extra_style(this.root);\n",
       "\n",
       "    parent_element.appendChild(this.root);\n",
       "\n",
       "    this._init_header(this);\n",
       "    this._init_canvas(this);\n",
       "    this._init_toolbar(this);\n",
       "\n",
       "    var fig = this;\n",
       "\n",
       "    this.waiting = false;\n",
       "\n",
       "    this.ws.onopen = function () {\n",
       "        fig.send_message('supports_binary', { value: fig.supports_binary });\n",
       "        fig.send_message('send_image_mode', {});\n",
       "        if (fig.ratio !== 1) {\n",
       "            fig.send_message('set_dpi_ratio', { dpi_ratio: fig.ratio });\n",
       "        }\n",
       "        fig.send_message('refresh', {});\n",
       "    };\n",
       "\n",
       "    this.imageObj.onload = function () {\n",
       "        if (fig.image_mode === 'full') {\n",
       "            // Full images could contain transparency (where diff images\n",
       "            // almost always do), so we need to clear the canvas so that\n",
       "            // there is no ghosting.\n",
       "            fig.context.clearRect(0, 0, fig.canvas.width, fig.canvas.height);\n",
       "        }\n",
       "        fig.context.drawImage(fig.imageObj, 0, 0);\n",
       "    };\n",
       "\n",
       "    this.imageObj.onunload = function () {\n",
       "        fig.ws.close();\n",
       "    };\n",
       "\n",
       "    this.ws.onmessage = this._make_on_message_function(this);\n",
       "\n",
       "    this.ondownload = ondownload;\n",
       "};\n",
       "\n",
       "mpl.figure.prototype._init_header = function () {\n",
       "    var titlebar = document.createElement('div');\n",
       "    titlebar.classList =\n",
       "        'ui-dialog-titlebar ui-widget-header ui-corner-all ui-helper-clearfix';\n",
       "    var titletext = document.createElement('div');\n",
       "    titletext.classList = 'ui-dialog-title';\n",
       "    titletext.setAttribute(\n",
       "        'style',\n",
       "        'width: 100%; text-align: center; padding: 3px;'\n",
       "    );\n",
       "    titlebar.appendChild(titletext);\n",
       "    this.root.appendChild(titlebar);\n",
       "    this.header = titletext;\n",
       "};\n",
       "\n",
       "mpl.figure.prototype._canvas_extra_style = function (_canvas_div) {};\n",
       "\n",
       "mpl.figure.prototype._root_extra_style = function (_canvas_div) {};\n",
       "\n",
       "mpl.figure.prototype._init_canvas = function () {\n",
       "    var fig = this;\n",
       "\n",
       "    var canvas_div = (this.canvas_div = document.createElement('div'));\n",
       "    canvas_div.setAttribute(\n",
       "        'style',\n",
       "        'border: 1px solid #ddd;' +\n",
       "            'box-sizing: content-box;' +\n",
       "            'clear: both;' +\n",
       "            'min-height: 1px;' +\n",
       "            'min-width: 1px;' +\n",
       "            'outline: 0;' +\n",
       "            'overflow: hidden;' +\n",
       "            'position: relative;' +\n",
       "            'resize: both;'\n",
       "    );\n",
       "\n",
       "    function on_keyboard_event_closure(name) {\n",
       "        return function (event) {\n",
       "            return fig.key_event(event, name);\n",
       "        };\n",
       "    }\n",
       "\n",
       "    canvas_div.addEventListener(\n",
       "        'keydown',\n",
       "        on_keyboard_event_closure('key_press')\n",
       "    );\n",
       "    canvas_div.addEventListener(\n",
       "        'keyup',\n",
       "        on_keyboard_event_closure('key_release')\n",
       "    );\n",
       "\n",
       "    this._canvas_extra_style(canvas_div);\n",
       "    this.root.appendChild(canvas_div);\n",
       "\n",
       "    var canvas = (this.canvas = document.createElement('canvas'));\n",
       "    canvas.classList.add('mpl-canvas');\n",
       "    canvas.setAttribute('style', 'box-sizing: content-box;');\n",
       "\n",
       "    this.context = canvas.getContext('2d');\n",
       "\n",
       "    var backingStore =\n",
       "        this.context.backingStorePixelRatio ||\n",
       "        this.context.webkitBackingStorePixelRatio ||\n",
       "        this.context.mozBackingStorePixelRatio ||\n",
       "        this.context.msBackingStorePixelRatio ||\n",
       "        this.context.oBackingStorePixelRatio ||\n",
       "        this.context.backingStorePixelRatio ||\n",
       "        1;\n",
       "\n",
       "    this.ratio = (window.devicePixelRatio || 1) / backingStore;\n",
       "\n",
       "    var rubberband_canvas = (this.rubberband_canvas = document.createElement(\n",
       "        'canvas'\n",
       "    ));\n",
       "    rubberband_canvas.setAttribute(\n",
       "        'style',\n",
       "        'box-sizing: content-box; position: absolute; left: 0; top: 0; z-index: 1;'\n",
       "    );\n",
       "\n",
       "    // Apply a ponyfill if ResizeObserver is not implemented by browser.\n",
       "    if (this.ResizeObserver === undefined) {\n",
       "        if (window.ResizeObserver !== undefined) {\n",
       "            this.ResizeObserver = window.ResizeObserver;\n",
       "        } else {\n",
       "            var obs = _JSXTOOLS_RESIZE_OBSERVER({});\n",
       "            this.ResizeObserver = obs.ResizeObserver;\n",
       "        }\n",
       "    }\n",
       "\n",
       "    this.resizeObserverInstance = new this.ResizeObserver(function (entries) {\n",
       "        var nentries = entries.length;\n",
       "        for (var i = 0; i < nentries; i++) {\n",
       "            var entry = entries[i];\n",
       "            var width, height;\n",
       "            if (entry.contentBoxSize) {\n",
       "                if (entry.contentBoxSize instanceof Array) {\n",
       "                    // Chrome 84 implements new version of spec.\n",
       "                    width = entry.contentBoxSize[0].inlineSize;\n",
       "                    height = entry.contentBoxSize[0].blockSize;\n",
       "                } else {\n",
       "                    // Firefox implements old version of spec.\n",
       "                    width = entry.contentBoxSize.inlineSize;\n",
       "                    height = entry.contentBoxSize.blockSize;\n",
       "                }\n",
       "            } else {\n",
       "                // Chrome <84 implements even older version of spec.\n",
       "                width = entry.contentRect.width;\n",
       "                height = entry.contentRect.height;\n",
       "            }\n",
       "\n",
       "            // Keep the size of the canvas and rubber band canvas in sync with\n",
       "            // the canvas container.\n",
       "            if (entry.devicePixelContentBoxSize) {\n",
       "                // Chrome 84 implements new version of spec.\n",
       "                canvas.setAttribute(\n",
       "                    'width',\n",
       "                    entry.devicePixelContentBoxSize[0].inlineSize\n",
       "                );\n",
       "                canvas.setAttribute(\n",
       "                    'height',\n",
       "                    entry.devicePixelContentBoxSize[0].blockSize\n",
       "                );\n",
       "            } else {\n",
       "                canvas.setAttribute('width', width * fig.ratio);\n",
       "                canvas.setAttribute('height', height * fig.ratio);\n",
       "            }\n",
       "            canvas.setAttribute(\n",
       "                'style',\n",
       "                'width: ' + width + 'px; height: ' + height + 'px;'\n",
       "            );\n",
       "\n",
       "            rubberband_canvas.setAttribute('width', width);\n",
       "            rubberband_canvas.setAttribute('height', height);\n",
       "\n",
       "            // And update the size in Python. We ignore the initial 0/0 size\n",
       "            // that occurs as the element is placed into the DOM, which should\n",
       "            // otherwise not happen due to the minimum size styling.\n",
       "            if (fig.ws.readyState == 1 && width != 0 && height != 0) {\n",
       "                fig.request_resize(width, height);\n",
       "            }\n",
       "        }\n",
       "    });\n",
       "    this.resizeObserverInstance.observe(canvas_div);\n",
       "\n",
       "    function on_mouse_event_closure(name) {\n",
       "        return function (event) {\n",
       "            return fig.mouse_event(event, name);\n",
       "        };\n",
       "    }\n",
       "\n",
       "    rubberband_canvas.addEventListener(\n",
       "        'mousedown',\n",
       "        on_mouse_event_closure('button_press')\n",
       "    );\n",
       "    rubberband_canvas.addEventListener(\n",
       "        'mouseup',\n",
       "        on_mouse_event_closure('button_release')\n",
       "    );\n",
       "    // Throttle sequential mouse events to 1 every 20ms.\n",
       "    rubberband_canvas.addEventListener(\n",
       "        'mousemove',\n",
       "        on_mouse_event_closure('motion_notify')\n",
       "    );\n",
       "\n",
       "    rubberband_canvas.addEventListener(\n",
       "        'mouseenter',\n",
       "        on_mouse_event_closure('figure_enter')\n",
       "    );\n",
       "    rubberband_canvas.addEventListener(\n",
       "        'mouseleave',\n",
       "        on_mouse_event_closure('figure_leave')\n",
       "    );\n",
       "\n",
       "    canvas_div.addEventListener('wheel', function (event) {\n",
       "        if (event.deltaY < 0) {\n",
       "            event.step = 1;\n",
       "        } else {\n",
       "            event.step = -1;\n",
       "        }\n",
       "        on_mouse_event_closure('scroll')(event);\n",
       "    });\n",
       "\n",
       "    canvas_div.appendChild(canvas);\n",
       "    canvas_div.appendChild(rubberband_canvas);\n",
       "\n",
       "    this.rubberband_context = rubberband_canvas.getContext('2d');\n",
       "    this.rubberband_context.strokeStyle = '#000000';\n",
       "\n",
       "    this._resize_canvas = function (width, height, forward) {\n",
       "        if (forward) {\n",
       "            canvas_div.style.width = width + 'px';\n",
       "            canvas_div.style.height = height + 'px';\n",
       "        }\n",
       "    };\n",
       "\n",
       "    // Disable right mouse context menu.\n",
       "    this.rubberband_canvas.addEventListener('contextmenu', function (_e) {\n",
       "        event.preventDefault();\n",
       "        return false;\n",
       "    });\n",
       "\n",
       "    function set_focus() {\n",
       "        canvas.focus();\n",
       "        canvas_div.focus();\n",
       "    }\n",
       "\n",
       "    window.setTimeout(set_focus, 100);\n",
       "};\n",
       "\n",
       "mpl.figure.prototype._init_toolbar = function () {\n",
       "    var fig = this;\n",
       "\n",
       "    var toolbar = document.createElement('div');\n",
       "    toolbar.classList = 'mpl-toolbar';\n",
       "    this.root.appendChild(toolbar);\n",
       "\n",
       "    function on_click_closure(name) {\n",
       "        return function (_event) {\n",
       "            return fig.toolbar_button_onclick(name);\n",
       "        };\n",
       "    }\n",
       "\n",
       "    function on_mouseover_closure(tooltip) {\n",
       "        return function (event) {\n",
       "            if (!event.currentTarget.disabled) {\n",
       "                return fig.toolbar_button_onmouseover(tooltip);\n",
       "            }\n",
       "        };\n",
       "    }\n",
       "\n",
       "    fig.buttons = {};\n",
       "    var buttonGroup = document.createElement('div');\n",
       "    buttonGroup.classList = 'mpl-button-group';\n",
       "    for (var toolbar_ind in mpl.toolbar_items) {\n",
       "        var name = mpl.toolbar_items[toolbar_ind][0];\n",
       "        var tooltip = mpl.toolbar_items[toolbar_ind][1];\n",
       "        var image = mpl.toolbar_items[toolbar_ind][2];\n",
       "        var method_name = mpl.toolbar_items[toolbar_ind][3];\n",
       "\n",
       "        if (!name) {\n",
       "            /* Instead of a spacer, we start a new button group. */\n",
       "            if (buttonGroup.hasChildNodes()) {\n",
       "                toolbar.appendChild(buttonGroup);\n",
       "            }\n",
       "            buttonGroup = document.createElement('div');\n",
       "            buttonGroup.classList = 'mpl-button-group';\n",
       "            continue;\n",
       "        }\n",
       "\n",
       "        var button = (fig.buttons[name] = document.createElement('button'));\n",
       "        button.classList = 'mpl-widget';\n",
       "        button.setAttribute('role', 'button');\n",
       "        button.setAttribute('aria-disabled', 'false');\n",
       "        button.addEventListener('click', on_click_closure(method_name));\n",
       "        button.addEventListener('mouseover', on_mouseover_closure(tooltip));\n",
       "\n",
       "        var icon_img = document.createElement('img');\n",
       "        icon_img.src = '_images/' + image + '.png';\n",
       "        icon_img.srcset = '_images/' + image + '_large.png 2x';\n",
       "        icon_img.alt = tooltip;\n",
       "        button.appendChild(icon_img);\n",
       "\n",
       "        buttonGroup.appendChild(button);\n",
       "    }\n",
       "\n",
       "    if (buttonGroup.hasChildNodes()) {\n",
       "        toolbar.appendChild(buttonGroup);\n",
       "    }\n",
       "\n",
       "    var fmt_picker = document.createElement('select');\n",
       "    fmt_picker.classList = 'mpl-widget';\n",
       "    toolbar.appendChild(fmt_picker);\n",
       "    this.format_dropdown = fmt_picker;\n",
       "\n",
       "    for (var ind in mpl.extensions) {\n",
       "        var fmt = mpl.extensions[ind];\n",
       "        var option = document.createElement('option');\n",
       "        option.selected = fmt === mpl.default_extension;\n",
       "        option.innerHTML = fmt;\n",
       "        fmt_picker.appendChild(option);\n",
       "    }\n",
       "\n",
       "    var status_bar = document.createElement('span');\n",
       "    status_bar.classList = 'mpl-message';\n",
       "    toolbar.appendChild(status_bar);\n",
       "    this.message = status_bar;\n",
       "};\n",
       "\n",
       "mpl.figure.prototype.request_resize = function (x_pixels, y_pixels) {\n",
       "    // Request matplotlib to resize the figure. Matplotlib will then trigger a resize in the client,\n",
       "    // which will in turn request a refresh of the image.\n",
       "    this.send_message('resize', { width: x_pixels, height: y_pixels });\n",
       "};\n",
       "\n",
       "mpl.figure.prototype.send_message = function (type, properties) {\n",
       "    properties['type'] = type;\n",
       "    properties['figure_id'] = this.id;\n",
       "    this.ws.send(JSON.stringify(properties));\n",
       "};\n",
       "\n",
       "mpl.figure.prototype.send_draw_message = function () {\n",
       "    if (!this.waiting) {\n",
       "        this.waiting = true;\n",
       "        this.ws.send(JSON.stringify({ type: 'draw', figure_id: this.id }));\n",
       "    }\n",
       "};\n",
       "\n",
       "mpl.figure.prototype.handle_save = function (fig, _msg) {\n",
       "    var format_dropdown = fig.format_dropdown;\n",
       "    var format = format_dropdown.options[format_dropdown.selectedIndex].value;\n",
       "    fig.ondownload(fig, format);\n",
       "};\n",
       "\n",
       "mpl.figure.prototype.handle_resize = function (fig, msg) {\n",
       "    var size = msg['size'];\n",
       "    if (size[0] !== fig.canvas.width || size[1] !== fig.canvas.height) {\n",
       "        fig._resize_canvas(size[0], size[1], msg['forward']);\n",
       "        fig.send_message('refresh', {});\n",
       "    }\n",
       "};\n",
       "\n",
       "mpl.figure.prototype.handle_rubberband = function (fig, msg) {\n",
       "    var x0 = msg['x0'] / fig.ratio;\n",
       "    var y0 = (fig.canvas.height - msg['y0']) / fig.ratio;\n",
       "    var x1 = msg['x1'] / fig.ratio;\n",
       "    var y1 = (fig.canvas.height - msg['y1']) / fig.ratio;\n",
       "    x0 = Math.floor(x0) + 0.5;\n",
       "    y0 = Math.floor(y0) + 0.5;\n",
       "    x1 = Math.floor(x1) + 0.5;\n",
       "    y1 = Math.floor(y1) + 0.5;\n",
       "    var min_x = Math.min(x0, x1);\n",
       "    var min_y = Math.min(y0, y1);\n",
       "    var width = Math.abs(x1 - x0);\n",
       "    var height = Math.abs(y1 - y0);\n",
       "\n",
       "    fig.rubberband_context.clearRect(\n",
       "        0,\n",
       "        0,\n",
       "        fig.canvas.width / fig.ratio,\n",
       "        fig.canvas.height / fig.ratio\n",
       "    );\n",
       "\n",
       "    fig.rubberband_context.strokeRect(min_x, min_y, width, height);\n",
       "};\n",
       "\n",
       "mpl.figure.prototype.handle_figure_label = function (fig, msg) {\n",
       "    // Updates the figure title.\n",
       "    fig.header.textContent = msg['label'];\n",
       "};\n",
       "\n",
       "mpl.figure.prototype.handle_cursor = function (fig, msg) {\n",
       "    var cursor = msg['cursor'];\n",
       "    switch (cursor) {\n",
       "        case 0:\n",
       "            cursor = 'pointer';\n",
       "            break;\n",
       "        case 1:\n",
       "            cursor = 'default';\n",
       "            break;\n",
       "        case 2:\n",
       "            cursor = 'crosshair';\n",
       "            break;\n",
       "        case 3:\n",
       "            cursor = 'move';\n",
       "            break;\n",
       "    }\n",
       "    fig.rubberband_canvas.style.cursor = cursor;\n",
       "};\n",
       "\n",
       "mpl.figure.prototype.handle_message = function (fig, msg) {\n",
       "    fig.message.textContent = msg['message'];\n",
       "};\n",
       "\n",
       "mpl.figure.prototype.handle_draw = function (fig, _msg) {\n",
       "    // Request the server to send over a new figure.\n",
       "    fig.send_draw_message();\n",
       "};\n",
       "\n",
       "mpl.figure.prototype.handle_image_mode = function (fig, msg) {\n",
       "    fig.image_mode = msg['mode'];\n",
       "};\n",
       "\n",
       "mpl.figure.prototype.handle_history_buttons = function (fig, msg) {\n",
       "    for (var key in msg) {\n",
       "        if (!(key in fig.buttons)) {\n",
       "            continue;\n",
       "        }\n",
       "        fig.buttons[key].disabled = !msg[key];\n",
       "        fig.buttons[key].setAttribute('aria-disabled', !msg[key]);\n",
       "    }\n",
       "};\n",
       "\n",
       "mpl.figure.prototype.handle_navigate_mode = function (fig, msg) {\n",
       "    if (msg['mode'] === 'PAN') {\n",
       "        fig.buttons['Pan'].classList.add('active');\n",
       "        fig.buttons['Zoom'].classList.remove('active');\n",
       "    } else if (msg['mode'] === 'ZOOM') {\n",
       "        fig.buttons['Pan'].classList.remove('active');\n",
       "        fig.buttons['Zoom'].classList.add('active');\n",
       "    } else {\n",
       "        fig.buttons['Pan'].classList.remove('active');\n",
       "        fig.buttons['Zoom'].classList.remove('active');\n",
       "    }\n",
       "};\n",
       "\n",
       "mpl.figure.prototype.updated_canvas_event = function () {\n",
       "    // Called whenever the canvas gets updated.\n",
       "    this.send_message('ack', {});\n",
       "};\n",
       "\n",
       "// A function to construct a web socket function for onmessage handling.\n",
       "// Called in the figure constructor.\n",
       "mpl.figure.prototype._make_on_message_function = function (fig) {\n",
       "    return function socket_on_message(evt) {\n",
       "        if (evt.data instanceof Blob) {\n",
       "            /* FIXME: We get \"Resource interpreted as Image but\n",
       "             * transferred with MIME type text/plain:\" errors on\n",
       "             * Chrome.  But how to set the MIME type?  It doesn't seem\n",
       "             * to be part of the websocket stream */\n",
       "            evt.data.type = 'image/png';\n",
       "\n",
       "            /* Free the memory for the previous frames */\n",
       "            if (fig.imageObj.src) {\n",
       "                (window.URL || window.webkitURL).revokeObjectURL(\n",
       "                    fig.imageObj.src\n",
       "                );\n",
       "            }\n",
       "\n",
       "            fig.imageObj.src = (window.URL || window.webkitURL).createObjectURL(\n",
       "                evt.data\n",
       "            );\n",
       "            fig.updated_canvas_event();\n",
       "            fig.waiting = false;\n",
       "            return;\n",
       "        } else if (\n",
       "            typeof evt.data === 'string' &&\n",
       "            evt.data.slice(0, 21) === 'data:image/png;base64'\n",
       "        ) {\n",
       "            fig.imageObj.src = evt.data;\n",
       "            fig.updated_canvas_event();\n",
       "            fig.waiting = false;\n",
       "            return;\n",
       "        }\n",
       "\n",
       "        var msg = JSON.parse(evt.data);\n",
       "        var msg_type = msg['type'];\n",
       "\n",
       "        // Call the  \"handle_{type}\" callback, which takes\n",
       "        // the figure and JSON message as its only arguments.\n",
       "        try {\n",
       "            var callback = fig['handle_' + msg_type];\n",
       "        } catch (e) {\n",
       "            console.log(\n",
       "                \"No handler for the '\" + msg_type + \"' message type: \",\n",
       "                msg\n",
       "            );\n",
       "            return;\n",
       "        }\n",
       "\n",
       "        if (callback) {\n",
       "            try {\n",
       "                // console.log(\"Handling '\" + msg_type + \"' message: \", msg);\n",
       "                callback(fig, msg);\n",
       "            } catch (e) {\n",
       "                console.log(\n",
       "                    \"Exception inside the 'handler_\" + msg_type + \"' callback:\",\n",
       "                    e,\n",
       "                    e.stack,\n",
       "                    msg\n",
       "                );\n",
       "            }\n",
       "        }\n",
       "    };\n",
       "};\n",
       "\n",
       "// from http://stackoverflow.com/questions/1114465/getting-mouse-location-in-canvas\n",
       "mpl.findpos = function (e) {\n",
       "    //this section is from http://www.quirksmode.org/js/events_properties.html\n",
       "    var targ;\n",
       "    if (!e) {\n",
       "        e = window.event;\n",
       "    }\n",
       "    if (e.target) {\n",
       "        targ = e.target;\n",
       "    } else if (e.srcElement) {\n",
       "        targ = e.srcElement;\n",
       "    }\n",
       "    if (targ.nodeType === 3) {\n",
       "        // defeat Safari bug\n",
       "        targ = targ.parentNode;\n",
       "    }\n",
       "\n",
       "    // pageX,Y are the mouse positions relative to the document\n",
       "    var boundingRect = targ.getBoundingClientRect();\n",
       "    var x = e.pageX - (boundingRect.left + document.body.scrollLeft);\n",
       "    var y = e.pageY - (boundingRect.top + document.body.scrollTop);\n",
       "\n",
       "    return { x: x, y: y };\n",
       "};\n",
       "\n",
       "/*\n",
       " * return a copy of an object with only non-object keys\n",
       " * we need this to avoid circular references\n",
       " * http://stackoverflow.com/a/24161582/3208463\n",
       " */\n",
       "function simpleKeys(original) {\n",
       "    return Object.keys(original).reduce(function (obj, key) {\n",
       "        if (typeof original[key] !== 'object') {\n",
       "            obj[key] = original[key];\n",
       "        }\n",
       "        return obj;\n",
       "    }, {});\n",
       "}\n",
       "\n",
       "mpl.figure.prototype.mouse_event = function (event, name) {\n",
       "    var canvas_pos = mpl.findpos(event);\n",
       "\n",
       "    if (name === 'button_press') {\n",
       "        this.canvas.focus();\n",
       "        this.canvas_div.focus();\n",
       "    }\n",
       "\n",
       "    var x = canvas_pos.x * this.ratio;\n",
       "    var y = canvas_pos.y * this.ratio;\n",
       "\n",
       "    this.send_message(name, {\n",
       "        x: x,\n",
       "        y: y,\n",
       "        button: event.button,\n",
       "        step: event.step,\n",
       "        guiEvent: simpleKeys(event),\n",
       "    });\n",
       "\n",
       "    /* This prevents the web browser from automatically changing to\n",
       "     * the text insertion cursor when the button is pressed.  We want\n",
       "     * to control all of the cursor setting manually through the\n",
       "     * 'cursor' event from matplotlib */\n",
       "    event.preventDefault();\n",
       "    return false;\n",
       "};\n",
       "\n",
       "mpl.figure.prototype._key_event_extra = function (_event, _name) {\n",
       "    // Handle any extra behaviour associated with a key event\n",
       "};\n",
       "\n",
       "mpl.figure.prototype.key_event = function (event, name) {\n",
       "    // Prevent repeat events\n",
       "    if (name === 'key_press') {\n",
       "        if (event.which === this._key) {\n",
       "            return;\n",
       "        } else {\n",
       "            this._key = event.which;\n",
       "        }\n",
       "    }\n",
       "    if (name === 'key_release') {\n",
       "        this._key = null;\n",
       "    }\n",
       "\n",
       "    var value = '';\n",
       "    if (event.ctrlKey && event.which !== 17) {\n",
       "        value += 'ctrl+';\n",
       "    }\n",
       "    if (event.altKey && event.which !== 18) {\n",
       "        value += 'alt+';\n",
       "    }\n",
       "    if (event.shiftKey && event.which !== 16) {\n",
       "        value += 'shift+';\n",
       "    }\n",
       "\n",
       "    value += 'k';\n",
       "    value += event.which.toString();\n",
       "\n",
       "    this._key_event_extra(event, name);\n",
       "\n",
       "    this.send_message(name, { key: value, guiEvent: simpleKeys(event) });\n",
       "    return false;\n",
       "};\n",
       "\n",
       "mpl.figure.prototype.toolbar_button_onclick = function (name) {\n",
       "    if (name === 'download') {\n",
       "        this.handle_save(this, null);\n",
       "    } else {\n",
       "        this.send_message('toolbar_button', { name: name });\n",
       "    }\n",
       "};\n",
       "\n",
       "mpl.figure.prototype.toolbar_button_onmouseover = function (tooltip) {\n",
       "    this.message.textContent = tooltip;\n",
       "};\n",
       "\n",
       "///////////////// REMAINING CONTENT GENERATED BY embed_js.py /////////////////\n",
       "// prettier-ignore\n",
       "var _JSXTOOLS_RESIZE_OBSERVER=function(A){var t,i=new WeakMap,n=new WeakMap,a=new WeakMap,r=new WeakMap,o=new Set;function s(e){if(!(this instanceof s))throw new TypeError(\"Constructor requires 'new' operator\");i.set(this,e)}function h(){throw new TypeError(\"Function is not a constructor\")}function c(e,t,i,n){e=0 in arguments?Number(arguments[0]):0,t=1 in arguments?Number(arguments[1]):0,i=2 in arguments?Number(arguments[2]):0,n=3 in arguments?Number(arguments[3]):0,this.right=(this.x=this.left=e)+(this.width=i),this.bottom=(this.y=this.top=t)+(this.height=n),Object.freeze(this)}function d(){t=requestAnimationFrame(d);var s=new WeakMap,p=new Set;o.forEach((function(t){r.get(t).forEach((function(i){var r=t instanceof window.SVGElement,o=a.get(t),d=r?0:parseFloat(o.paddingTop),f=r?0:parseFloat(o.paddingRight),l=r?0:parseFloat(o.paddingBottom),u=r?0:parseFloat(o.paddingLeft),g=r?0:parseFloat(o.borderTopWidth),m=r?0:parseFloat(o.borderRightWidth),w=r?0:parseFloat(o.borderBottomWidth),b=u+f,F=d+l,v=(r?0:parseFloat(o.borderLeftWidth))+m,W=g+w,y=r?0:t.offsetHeight-W-t.clientHeight,E=r?0:t.offsetWidth-v-t.clientWidth,R=b+v,z=F+W,M=r?t.width:parseFloat(o.width)-R-E,O=r?t.height:parseFloat(o.height)-z-y;if(n.has(t)){var k=n.get(t);if(k[0]===M&&k[1]===O)return}n.set(t,[M,O]);var S=Object.create(h.prototype);S.target=t,S.contentRect=new c(u,d,M,O),s.has(i)||(s.set(i,[]),p.add(i)),s.get(i).push(S)}))})),p.forEach((function(e){i.get(e).call(e,s.get(e),e)}))}return s.prototype.observe=function(i){if(i instanceof window.Element){r.has(i)||(r.set(i,new Set),o.add(i),a.set(i,window.getComputedStyle(i)));var n=r.get(i);n.has(this)||n.add(this),cancelAnimationFrame(t),t=requestAnimationFrame(d)}},s.prototype.unobserve=function(i){if(i instanceof window.Element&&r.has(i)){var n=r.get(i);n.has(this)&&(n.delete(this),n.size||(r.delete(i),o.delete(i))),n.size||r.delete(i),o.size||cancelAnimationFrame(t)}},A.DOMRectReadOnly=c,A.ResizeObserver=s,A.ResizeObserverEntry=h,A}; // eslint-disable-line\n",
       "mpl.toolbar_items = [[\"Home\", \"Reset original view\", \"fa fa-home icon-home\", \"home\"], [\"Back\", \"Back to previous view\", \"fa fa-arrow-left icon-arrow-left\", \"back\"], [\"Forward\", \"Forward to next view\", \"fa fa-arrow-right icon-arrow-right\", \"forward\"], [\"\", \"\", \"\", \"\"], [\"Pan\", \"Left button pans, Right button zooms\\nx/y fixes axis, CTRL fixes aspect\", \"fa fa-arrows icon-move\", \"pan\"], [\"Zoom\", \"Zoom to rectangle\\nx/y fixes axis, CTRL fixes aspect\", \"fa fa-square-o icon-check-empty\", \"zoom\"], [\"\", \"\", \"\", \"\"], [\"Download\", \"Download plot\", \"fa fa-floppy-o icon-save\", \"download\"]];\n",
       "\n",
       "mpl.extensions = [\"eps\", \"jpeg\", \"pdf\", \"png\", \"ps\", \"raw\", \"svg\", \"tif\"];\n",
       "\n",
       "mpl.default_extension = \"png\";/* global mpl */\n",
       "\n",
       "var comm_websocket_adapter = function (comm) {\n",
       "    // Create a \"websocket\"-like object which calls the given IPython comm\n",
       "    // object with the appropriate methods. Currently this is a non binary\n",
       "    // socket, so there is still some room for performance tuning.\n",
       "    var ws = {};\n",
       "\n",
       "    ws.close = function () {\n",
       "        comm.close();\n",
       "    };\n",
       "    ws.send = function (m) {\n",
       "        //console.log('sending', m);\n",
       "        comm.send(m);\n",
       "    };\n",
       "    // Register the callback with on_msg.\n",
       "    comm.on_msg(function (msg) {\n",
       "        //console.log('receiving', msg['content']['data'], msg);\n",
       "        // Pass the mpl event to the overridden (by mpl) onmessage function.\n",
       "        ws.onmessage(msg['content']['data']);\n",
       "    });\n",
       "    return ws;\n",
       "};\n",
       "\n",
       "mpl.mpl_figure_comm = function (comm, msg) {\n",
       "    // This is the function which gets called when the mpl process\n",
       "    // starts-up an IPython Comm through the \"matplotlib\" channel.\n",
       "\n",
       "    var id = msg.content.data.id;\n",
       "    // Get hold of the div created by the display call when the Comm\n",
       "    // socket was opened in Python.\n",
       "    var element = document.getElementById(id);\n",
       "    var ws_proxy = comm_websocket_adapter(comm);\n",
       "\n",
       "    function ondownload(figure, _format) {\n",
       "        window.open(figure.canvas.toDataURL());\n",
       "    }\n",
       "\n",
       "    var fig = new mpl.figure(id, ws_proxy, ondownload, element);\n",
       "\n",
       "    // Call onopen now - mpl needs it, as it is assuming we've passed it a real\n",
       "    // web socket which is closed, not our websocket->open comm proxy.\n",
       "    ws_proxy.onopen();\n",
       "\n",
       "    fig.parent_element = element;\n",
       "    fig.cell_info = mpl.find_output_cell(\"<div id='\" + id + \"'></div>\");\n",
       "    if (!fig.cell_info) {\n",
       "        console.error('Failed to find cell for figure', id, fig);\n",
       "        return;\n",
       "    }\n",
       "    fig.cell_info[0].output_area.element.on(\n",
       "        'cleared',\n",
       "        { fig: fig },\n",
       "        fig._remove_fig_handler\n",
       "    );\n",
       "};\n",
       "\n",
       "mpl.figure.prototype.handle_close = function (fig, msg) {\n",
       "    var width = fig.canvas.width / fig.ratio;\n",
       "    fig.cell_info[0].output_area.element.off(\n",
       "        'cleared',\n",
       "        fig._remove_fig_handler\n",
       "    );\n",
       "    fig.resizeObserverInstance.unobserve(fig.canvas_div);\n",
       "\n",
       "    // Update the output cell to use the data from the current canvas.\n",
       "    fig.push_to_output();\n",
       "    var dataURL = fig.canvas.toDataURL();\n",
       "    // Re-enable the keyboard manager in IPython - without this line, in FF,\n",
       "    // the notebook keyboard shortcuts fail.\n",
       "    IPython.keyboard_manager.enable();\n",
       "    fig.parent_element.innerHTML =\n",
       "        '<img src=\"' + dataURL + '\" width=\"' + width + '\">';\n",
       "    fig.close_ws(fig, msg);\n",
       "};\n",
       "\n",
       "mpl.figure.prototype.close_ws = function (fig, msg) {\n",
       "    fig.send_message('closing', msg);\n",
       "    // fig.ws.close()\n",
       "};\n",
       "\n",
       "mpl.figure.prototype.push_to_output = function (_remove_interactive) {\n",
       "    // Turn the data on the canvas into data in the output cell.\n",
       "    var width = this.canvas.width / this.ratio;\n",
       "    var dataURL = this.canvas.toDataURL();\n",
       "    this.cell_info[1]['text/html'] =\n",
       "        '<img src=\"' + dataURL + '\" width=\"' + width + '\">';\n",
       "};\n",
       "\n",
       "mpl.figure.prototype.updated_canvas_event = function () {\n",
       "    // Tell IPython that the notebook contents must change.\n",
       "    IPython.notebook.set_dirty(true);\n",
       "    this.send_message('ack', {});\n",
       "    var fig = this;\n",
       "    // Wait a second, then push the new image to the DOM so\n",
       "    // that it is saved nicely (might be nice to debounce this).\n",
       "    setTimeout(function () {\n",
       "        fig.push_to_output();\n",
       "    }, 1000);\n",
       "};\n",
       "\n",
       "mpl.figure.prototype._init_toolbar = function () {\n",
       "    var fig = this;\n",
       "\n",
       "    var toolbar = document.createElement('div');\n",
       "    toolbar.classList = 'btn-toolbar';\n",
       "    this.root.appendChild(toolbar);\n",
       "\n",
       "    function on_click_closure(name) {\n",
       "        return function (_event) {\n",
       "            return fig.toolbar_button_onclick(name);\n",
       "        };\n",
       "    }\n",
       "\n",
       "    function on_mouseover_closure(tooltip) {\n",
       "        return function (event) {\n",
       "            if (!event.currentTarget.disabled) {\n",
       "                return fig.toolbar_button_onmouseover(tooltip);\n",
       "            }\n",
       "        };\n",
       "    }\n",
       "\n",
       "    fig.buttons = {};\n",
       "    var buttonGroup = document.createElement('div');\n",
       "    buttonGroup.classList = 'btn-group';\n",
       "    var button;\n",
       "    for (var toolbar_ind in mpl.toolbar_items) {\n",
       "        var name = mpl.toolbar_items[toolbar_ind][0];\n",
       "        var tooltip = mpl.toolbar_items[toolbar_ind][1];\n",
       "        var image = mpl.toolbar_items[toolbar_ind][2];\n",
       "        var method_name = mpl.toolbar_items[toolbar_ind][3];\n",
       "\n",
       "        if (!name) {\n",
       "            /* Instead of a spacer, we start a new button group. */\n",
       "            if (buttonGroup.hasChildNodes()) {\n",
       "                toolbar.appendChild(buttonGroup);\n",
       "            }\n",
       "            buttonGroup = document.createElement('div');\n",
       "            buttonGroup.classList = 'btn-group';\n",
       "            continue;\n",
       "        }\n",
       "\n",
       "        button = fig.buttons[name] = document.createElement('button');\n",
       "        button.classList = 'btn btn-default';\n",
       "        button.href = '#';\n",
       "        button.title = name;\n",
       "        button.innerHTML = '<i class=\"fa ' + image + ' fa-lg\"></i>';\n",
       "        button.addEventListener('click', on_click_closure(method_name));\n",
       "        button.addEventListener('mouseover', on_mouseover_closure(tooltip));\n",
       "        buttonGroup.appendChild(button);\n",
       "    }\n",
       "\n",
       "    if (buttonGroup.hasChildNodes()) {\n",
       "        toolbar.appendChild(buttonGroup);\n",
       "    }\n",
       "\n",
       "    // Add the status bar.\n",
       "    var status_bar = document.createElement('span');\n",
       "    status_bar.classList = 'mpl-message pull-right';\n",
       "    toolbar.appendChild(status_bar);\n",
       "    this.message = status_bar;\n",
       "\n",
       "    // Add the close button to the window.\n",
       "    var buttongrp = document.createElement('div');\n",
       "    buttongrp.classList = 'btn-group inline pull-right';\n",
       "    button = document.createElement('button');\n",
       "    button.classList = 'btn btn-mini btn-primary';\n",
       "    button.href = '#';\n",
       "    button.title = 'Stop Interaction';\n",
       "    button.innerHTML = '<i class=\"fa fa-power-off icon-remove icon-large\"></i>';\n",
       "    button.addEventListener('click', function (_evt) {\n",
       "        fig.handle_close(fig, {});\n",
       "    });\n",
       "    button.addEventListener(\n",
       "        'mouseover',\n",
       "        on_mouseover_closure('Stop Interaction')\n",
       "    );\n",
       "    buttongrp.appendChild(button);\n",
       "    var titlebar = this.root.querySelector('.ui-dialog-titlebar');\n",
       "    titlebar.insertBefore(buttongrp, titlebar.firstChild);\n",
       "};\n",
       "\n",
       "mpl.figure.prototype._remove_fig_handler = function (event) {\n",
       "    var fig = event.data.fig;\n",
       "    if (event.target !== this) {\n",
       "        // Ignore bubbled events from children.\n",
       "        return;\n",
       "    }\n",
       "    fig.close_ws(fig, {});\n",
       "};\n",
       "\n",
       "mpl.figure.prototype._root_extra_style = function (el) {\n",
       "    el.style.boxSizing = 'content-box'; // override notebook setting of border-box.\n",
       "};\n",
       "\n",
       "mpl.figure.prototype._canvas_extra_style = function (el) {\n",
       "    // this is important to make the div 'focusable\n",
       "    el.setAttribute('tabindex', 0);\n",
       "    // reach out to IPython and tell the keyboard manager to turn it's self\n",
       "    // off when our div gets focus\n",
       "\n",
       "    // location in version 3\n",
       "    if (IPython.notebook.keyboard_manager) {\n",
       "        IPython.notebook.keyboard_manager.register_events(el);\n",
       "    } else {\n",
       "        // location in version 2\n",
       "        IPython.keyboard_manager.register_events(el);\n",
       "    }\n",
       "};\n",
       "\n",
       "mpl.figure.prototype._key_event_extra = function (event, _name) {\n",
       "    var manager = IPython.notebook.keyboard_manager;\n",
       "    if (!manager) {\n",
       "        manager = IPython.keyboard_manager;\n",
       "    }\n",
       "\n",
       "    // Check for shift+enter\n",
       "    if (event.shiftKey && event.which === 13) {\n",
       "        this.canvas_div.blur();\n",
       "        // select the cell after this one\n",
       "        var index = IPython.notebook.find_cell_index(this.cell_info[0]);\n",
       "        IPython.notebook.select(index + 1);\n",
       "    }\n",
       "};\n",
       "\n",
       "mpl.figure.prototype.handle_save = function (fig, _msg) {\n",
       "    fig.ondownload(fig, null);\n",
       "};\n",
       "\n",
       "mpl.find_output_cell = function (html_output) {\n",
       "    // Return the cell and output element which can be found *uniquely* in the notebook.\n",
       "    // Note - this is a bit hacky, but it is done because the \"notebook_saving.Notebook\"\n",
       "    // IPython event is triggered only after the cells have been serialised, which for\n",
       "    // our purposes (turning an active figure into a static one), is too late.\n",
       "    var cells = IPython.notebook.get_cells();\n",
       "    var ncells = cells.length;\n",
       "    for (var i = 0; i < ncells; i++) {\n",
       "        var cell = cells[i];\n",
       "        if (cell.cell_type === 'code') {\n",
       "            for (var j = 0; j < cell.output_area.outputs.length; j++) {\n",
       "                var data = cell.output_area.outputs[j];\n",
       "                if (data.data) {\n",
       "                    // IPython >= 3 moved mimebundle to data attribute of output\n",
       "                    data = data.data;\n",
       "                }\n",
       "                if (data['text/html'] === html_output) {\n",
       "                    return [cell, data, j];\n",
       "                }\n",
       "            }\n",
       "        }\n",
       "    }\n",
       "};\n",
       "\n",
       "// Register the function which deals with the matplotlib target/channel.\n",
       "// The kernel may be null if the page has been refreshed.\n",
       "if (IPython.notebook.kernel !== null) {\n",
       "    IPython.notebook.kernel.comm_manager.register_target(\n",
       "        'matplotlib',\n",
       "        mpl.mpl_figure_comm\n",
       "    );\n",
       "}\n"
      ],
      "text/plain": [
       "<IPython.core.display.Javascript object>"
      ]
     },
     "metadata": {},
     "output_type": "display_data"
    },
    {
     "data": {
      "text/html": [
       "<img src=\"data:image/png;base64,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\" width=\"640\">"
      ],
      "text/plain": [
       "<IPython.core.display.HTML object>"
      ]
     },
     "metadata": {},
     "output_type": "display_data"
    },
    {
     "data": {
      "text/plain": [
       "(array([7.0000e+00, 6.0000e+00, 2.0000e+01, 6.5000e+01, 9.4000e+01,\n",
       "        1.4200e+02, 2.9400e+02, 5.2600e+02, 1.2510e+03, 1.8450e+03,\n",
       "        2.5780e+03, 4.0870e+03, 6.1890e+03, 9.6500e+03, 1.3745e+04,\n",
       "        1.8366e+04, 2.0310e+04, 2.0773e+04, 1.9382e+04, 1.8784e+04,\n",
       "        1.5915e+04, 1.1254e+04, 7.5250e+03, 4.9470e+03, 2.8290e+03,\n",
       "        1.4590e+03, 7.4800e+02, 2.2800e+02, 8.4000e+01, 3.9000e+01]),\n",
       " array([33.        , 35.03333333, 37.06666667, 39.1       , 41.13333333,\n",
       "        43.16666667, 45.2       , 47.23333333, 49.26666667, 51.3       ,\n",
       "        53.33333333, 55.36666667, 57.4       , 59.43333333, 61.46666667,\n",
       "        63.5       , 65.53333333, 67.56666667, 69.6       , 71.63333333,\n",
       "        73.66666667, 75.7       , 77.73333333, 79.76666667, 81.8       ,\n",
       "        83.83333333, 85.86666667, 87.9       , 89.93333333, 91.96666667,\n",
       "        94.        ]),\n",
       " <BarContainer object of 30 artists>)"
      ]
     },
     "execution_count": 10,
     "metadata": {},
     "output_type": "execute_result"
    }
   ],
   "source": [
    "plt.hist(target, 30, range=(33, 94))"
   ]
  },
  {
   "cell_type": "code",
   "execution_count": 11,
   "id": "seventh-casting",
   "metadata": {},
   "outputs": [],
   "source": [
    "y = target.fillna(target.mean())"
   ]
  },
  {
   "cell_type": "code",
   "execution_count": 12,
   "id": "ranking-islam",
   "metadata": {},
   "outputs": [
    {
     "data": {
      "text/plain": [
       "False"
      ]
     },
     "execution_count": 12,
     "metadata": {},
     "output_type": "execute_result"
    }
   ],
   "source": [
    "y.isnull().values.any()"
   ]
  },
  {
   "cell_type": "code",
   "execution_count": 13,
   "id": "therapeutic-mirror",
   "metadata": {},
   "outputs": [
    {
     "data": {
      "text/plain": [
       "Index(['id', 'player_fifa_api_id', 'player_api_id', 'date', 'potential',\n",
       "       'preferred_foot', 'attacking_work_rate', 'defensive_work_rate',\n",
       "       'crossing', 'finishing', 'heading_accuracy', 'short_passing', 'volleys',\n",
       "       'dribbling', 'curve', 'free_kick_accuracy', 'long_passing',\n",
       "       'ball_control', 'acceleration', 'sprint_speed', 'agility', 'reactions',\n",
       "       'balance', 'shot_power', 'jumping', 'stamina', 'strength', 'long_shots',\n",
       "       'aggression', 'interceptions', 'positioning', 'vision', 'penalties',\n",
       "       'marking', 'standing_tackle', 'sliding_tackle', 'gk_diving',\n",
       "       'gk_handling', 'gk_kicking', 'gk_positioning', 'gk_reflexes'],\n",
       "      dtype='object')"
      ]
     },
     "execution_count": 13,
     "metadata": {},
     "output_type": "execute_result"
    }
   ],
   "source": [
    "df.columns"
   ]
  },
  {
   "cell_type": "code",
   "execution_count": 14,
   "id": "persistent-egyptian",
   "metadata": {},
   "outputs": [
    {
     "name": "stdout",
     "output_type": "stream",
     "text": [
      "id--> 183978..int64\n",
      "player_fifa_api_id--> 11062..int64\n",
      "player_api_id--> 11060..int64\n",
      "date--> 197..object\n",
      "potential--> 57..float64\n",
      "preferred_foot--> 3..object\n",
      "attacking_work_rate--> 9..object\n",
      "defensive_work_rate--> 20..object\n",
      "crossing--> 96..float64\n",
      "finishing--> 98..float64\n",
      "heading_accuracy--> 97..float64\n",
      "short_passing--> 96..float64\n",
      "volleys--> 94..float64\n",
      "dribbling--> 98..float64\n",
      "curve--> 93..float64\n",
      "free_kick_accuracy--> 98..float64\n",
      "long_passing--> 96..float64\n",
      "ball_control--> 94..float64\n",
      "acceleration--> 87..float64\n",
      "sprint_speed--> 86..float64\n",
      "agility--> 82..float64\n",
      "reactions--> 79..float64\n",
      "balance--> 82..float64\n",
      "shot_power--> 97..float64\n",
      "jumping--> 80..float64\n",
      "stamina--> 85..float64\n",
      "strength--> 83..float64\n",
      "long_shots--> 97..float64\n",
      "aggression--> 92..float64\n",
      "interceptions--> 97..float64\n",
      "positioning--> 96..float64\n",
      "vision--> 98..float64\n",
      "penalties--> 95..float64\n",
      "marking--> 96..float64\n",
      "standing_tackle--> 96..float64\n",
      "sliding_tackle--> 95..float64\n",
      "gk_diving--> 94..float64\n",
      "gk_handling--> 91..float64\n",
      "gk_kicking--> 98..float64\n",
      "gk_positioning--> 95..float64\n",
      "gk_reflexes--> 93..float64\n"
     ]
    }
   ],
   "source": [
    "for col in df.columns:\n",
    "    unique_cat = len(df[col].unique())\n",
    "    print(\"{col}--> {unique_cat}..{typ}\".format(col=col, unique_cat=unique_cat, typ=df[col].dtype))"
   ]
  },
  {
   "cell_type": "code",
   "execution_count": 15,
   "id": "vulnerable-patient",
   "metadata": {},
   "outputs": [
    {
     "data": {
      "text/html": [
       "<div>\n",
       "<style scoped>\n",
       "    .dataframe tbody tr th:only-of-type {\n",
       "        vertical-align: middle;\n",
       "    }\n",
       "\n",
       "    .dataframe tbody tr th {\n",
       "        vertical-align: top;\n",
       "    }\n",
       "\n",
       "    .dataframe thead th {\n",
       "        text-align: right;\n",
       "    }\n",
       "</style>\n",
       "<table border=\"1\" class=\"dataframe\">\n",
       "  <thead>\n",
       "    <tr style=\"text-align: right;\">\n",
       "      <th></th>\n",
       "      <th>id</th>\n",
       "      <th>player_fifa_api_id</th>\n",
       "      <th>player_api_id</th>\n",
       "      <th>date</th>\n",
       "      <th>potential</th>\n",
       "      <th>crossing</th>\n",
       "      <th>finishing</th>\n",
       "      <th>heading_accuracy</th>\n",
       "      <th>short_passing</th>\n",
       "      <th>volleys</th>\n",
       "      <th>...</th>\n",
       "      <th>defensive_work_rate_9</th>\n",
       "      <th>defensive_work_rate__0</th>\n",
       "      <th>defensive_work_rate_ean</th>\n",
       "      <th>defensive_work_rate_es</th>\n",
       "      <th>defensive_work_rate_high</th>\n",
       "      <th>defensive_work_rate_low</th>\n",
       "      <th>defensive_work_rate_medium</th>\n",
       "      <th>defensive_work_rate_o</th>\n",
       "      <th>defensive_work_rate_ormal</th>\n",
       "      <th>defensive_work_rate_tocky</th>\n",
       "    </tr>\n",
       "  </thead>\n",
       "  <tbody>\n",
       "    <tr>\n",
       "      <th>0</th>\n",
       "      <td>1</td>\n",
       "      <td>218353</td>\n",
       "      <td>505942</td>\n",
       "      <td>2016-02-18 00:00:00</td>\n",
       "      <td>71.0</td>\n",
       "      <td>49.0</td>\n",
       "      <td>44.0</td>\n",
       "      <td>71.0</td>\n",
       "      <td>61.0</td>\n",
       "      <td>44.0</td>\n",
       "      <td>...</td>\n",
       "      <td>0</td>\n",
       "      <td>0</td>\n",
       "      <td>0</td>\n",
       "      <td>0</td>\n",
       "      <td>0</td>\n",
       "      <td>0</td>\n",
       "      <td>1</td>\n",
       "      <td>0</td>\n",
       "      <td>0</td>\n",
       "      <td>0</td>\n",
       "    </tr>\n",
       "    <tr>\n",
       "      <th>1</th>\n",
       "      <td>2</td>\n",
       "      <td>218353</td>\n",
       "      <td>505942</td>\n",
       "      <td>2015-11-19 00:00:00</td>\n",
       "      <td>71.0</td>\n",
       "      <td>49.0</td>\n",
       "      <td>44.0</td>\n",
       "      <td>71.0</td>\n",
       "      <td>61.0</td>\n",
       "      <td>44.0</td>\n",
       "      <td>...</td>\n",
       "      <td>0</td>\n",
       "      <td>0</td>\n",
       "      <td>0</td>\n",
       "      <td>0</td>\n",
       "      <td>0</td>\n",
       "      <td>0</td>\n",
       "      <td>1</td>\n",
       "      <td>0</td>\n",
       "      <td>0</td>\n",
       "      <td>0</td>\n",
       "    </tr>\n",
       "    <tr>\n",
       "      <th>2</th>\n",
       "      <td>3</td>\n",
       "      <td>218353</td>\n",
       "      <td>505942</td>\n",
       "      <td>2015-09-21 00:00:00</td>\n",
       "      <td>66.0</td>\n",
       "      <td>49.0</td>\n",
       "      <td>44.0</td>\n",
       "      <td>71.0</td>\n",
       "      <td>61.0</td>\n",
       "      <td>44.0</td>\n",
       "      <td>...</td>\n",
       "      <td>0</td>\n",
       "      <td>0</td>\n",
       "      <td>0</td>\n",
       "      <td>0</td>\n",
       "      <td>0</td>\n",
       "      <td>0</td>\n",
       "      <td>1</td>\n",
       "      <td>0</td>\n",
       "      <td>0</td>\n",
       "      <td>0</td>\n",
       "    </tr>\n",
       "    <tr>\n",
       "      <th>3</th>\n",
       "      <td>4</td>\n",
       "      <td>218353</td>\n",
       "      <td>505942</td>\n",
       "      <td>2015-03-20 00:00:00</td>\n",
       "      <td>65.0</td>\n",
       "      <td>48.0</td>\n",
       "      <td>43.0</td>\n",
       "      <td>70.0</td>\n",
       "      <td>60.0</td>\n",
       "      <td>43.0</td>\n",
       "      <td>...</td>\n",
       "      <td>0</td>\n",
       "      <td>0</td>\n",
       "      <td>0</td>\n",
       "      <td>0</td>\n",
       "      <td>0</td>\n",
       "      <td>0</td>\n",
       "      <td>1</td>\n",
       "      <td>0</td>\n",
       "      <td>0</td>\n",
       "      <td>0</td>\n",
       "    </tr>\n",
       "    <tr>\n",
       "      <th>4</th>\n",
       "      <td>5</td>\n",
       "      <td>218353</td>\n",
       "      <td>505942</td>\n",
       "      <td>2007-02-22 00:00:00</td>\n",
       "      <td>65.0</td>\n",
       "      <td>48.0</td>\n",
       "      <td>43.0</td>\n",
       "      <td>70.0</td>\n",
       "      <td>60.0</td>\n",
       "      <td>43.0</td>\n",
       "      <td>...</td>\n",
       "      <td>0</td>\n",
       "      <td>0</td>\n",
       "      <td>0</td>\n",
       "      <td>0</td>\n",
       "      <td>0</td>\n",
       "      <td>0</td>\n",
       "      <td>1</td>\n",
       "      <td>0</td>\n",
       "      <td>0</td>\n",
       "      <td>0</td>\n",
       "    </tr>\n",
       "  </tbody>\n",
       "</table>\n",
       "<p>5 rows × 67 columns</p>\n",
       "</div>"
      ],
      "text/plain": [
       "   id  player_fifa_api_id  player_api_id                 date  potential  \\\n",
       "0   1              218353         505942  2016-02-18 00:00:00       71.0   \n",
       "1   2              218353         505942  2015-11-19 00:00:00       71.0   \n",
       "2   3              218353         505942  2015-09-21 00:00:00       66.0   \n",
       "3   4              218353         505942  2015-03-20 00:00:00       65.0   \n",
       "4   5              218353         505942  2007-02-22 00:00:00       65.0   \n",
       "\n",
       "   crossing  finishing  heading_accuracy  short_passing  volleys  ...  \\\n",
       "0      49.0       44.0              71.0           61.0     44.0  ...   \n",
       "1      49.0       44.0              71.0           61.0     44.0  ...   \n",
       "2      49.0       44.0              71.0           61.0     44.0  ...   \n",
       "3      48.0       43.0              70.0           60.0     43.0  ...   \n",
       "4      48.0       43.0              70.0           60.0     43.0  ...   \n",
       "\n",
       "   defensive_work_rate_9  defensive_work_rate__0  defensive_work_rate_ean  \\\n",
       "0                      0                       0                        0   \n",
       "1                      0                       0                        0   \n",
       "2                      0                       0                        0   \n",
       "3                      0                       0                        0   \n",
       "4                      0                       0                        0   \n",
       "\n",
       "   defensive_work_rate_es  defensive_work_rate_high  defensive_work_rate_low  \\\n",
       "0                       0                         0                        0   \n",
       "1                       0                         0                        0   \n",
       "2                       0                         0                        0   \n",
       "3                       0                         0                        0   \n",
       "4                       0                         0                        0   \n",
       "\n",
       "   defensive_work_rate_medium  defensive_work_rate_o  \\\n",
       "0                           1                      0   \n",
       "1                           1                      0   \n",
       "2                           1                      0   \n",
       "3                           1                      0   \n",
       "4                           1                      0   \n",
       "\n",
       "   defensive_work_rate_ormal  defensive_work_rate_tocky  \n",
       "0                          0                          0  \n",
       "1                          0                          0  \n",
       "2                          0                          0  \n",
       "3                          0                          0  \n",
       "4                          0                          0  \n",
       "\n",
       "[5 rows x 67 columns]"
      ]
     },
     "execution_count": 15,
     "metadata": {},
     "output_type": "execute_result"
    }
   ],
   "source": [
    "dummy_df = pd.get_dummies(df, columns=['preferred_foot', 'attacking_work_rate', 'defensive_work_rate'])\n",
    "dummy_df.head()"
   ]
  },
  {
   "cell_type": "code",
   "execution_count": 16,
   "id": "divine-mexican",
   "metadata": {},
   "outputs": [],
   "source": [
    "X = dummy_df.drop(['id', 'date'], axis=1)"
   ]
  },
  {
   "cell_type": "markdown",
   "id": "fiscal-patent",
   "metadata": {},
   "source": [
    "Feature selection :\n",
    "\n",
    "As tree model doesn't gets affected by missing values  present in data set. but feature selection by SelectFromModel can not be done on datasets that carries null value. Therefore, we should also perform imputation on dataset."
   ]
  },
  {
   "cell_type": "code",
   "execution_count": 17,
   "id": "informal-medicaid",
   "metadata": {},
   "outputs": [],
   "source": [
    "X_train, X_test, y_train, y_test = train_test_split(X, y, test_size=0.25, random_state=42)"
   ]
  },
  {
   "cell_type": "code",
   "execution_count": 18,
   "id": "recorded-berlin",
   "metadata": {},
   "outputs": [],
   "source": [
    "#imputing null value of each column with the mean of that column\n",
    "\n",
    "X_train = imputer.fit_transform(X_train)\n",
    "X_test = imputer.fit_transform(X_test)"
   ]
  },
  {
   "cell_type": "code",
   "execution_count": 19,
   "id": "deadly-dutch",
   "metadata": {},
   "outputs": [
    {
     "name": "stdout",
     "output_type": "stream",
     "text": [
      "[0.01120631 0.01328359 0.16840532 0.01479726 0.00693286 0.02923344\n",
      " 0.02684483 0.00141261 0.01633997 0.00142012 0.00089428 0.00336454\n",
      " 0.05596953 0.00311885 0.00745351 0.00146221 0.31332487 0.00111532\n",
      " 0.02715905 0.00230193 0.00448559 0.02142001 0.00503635 0.0047115\n",
      " 0.01690764 0.01669931 0.00246637 0.00140508 0.02284728 0.05204851\n",
      " 0.00592539 0.02880222 0.02403816 0.00703669 0.03812633 0.022119\n",
      " 0.00037242 0.         0.00078061 0.00141978 0.00046924 0.00049927\n",
      " 0.0007586  0.00086996 0.00040868 0.00098631 0.         0.\n",
      " 0.         0.00204254 0.00125616 0.         0.00173628 0.\n",
      " 0.0006331  0.         0.00087684 0.         0.         0.00092218\n",
      " 0.00059731 0.00364412 0.00161083 0.         0.        ]\n"
     ]
    }
   ],
   "source": [
    "#finding feature_importance for feature selection. from it we'll be able to decide threshold value\n",
    "model = XGBRegressor()\n",
    "model.fit(X_train, y_train)\n",
    "print(model.feature_importances_)\n",
    "\n",
    "\n",
    "\n",
    "\n",
    "\n",
    "\n",
    "\n",
    "\n",
    "\n",
    "\n"
   ]
  },
  {
   "cell_type": "code",
   "execution_count": 20,
   "id": "adequate-following",
   "metadata": {},
   "outputs": [
    {
     "data": {
      "text/plain": [
       "(137983, 19)"
      ]
     },
     "execution_count": 20,
     "metadata": {},
     "output_type": "execute_result"
    }
   ],
   "source": [
    "selection = SelectFromModel(model, threshold=0.01, prefit=True)\n",
    "\n",
    "select_X_train = selection.transform(X_train)\n",
    "select_X_test = selection.transform(X_test)\n",
    "select_X_train.shape"
   ]
  },
  {
   "cell_type": "code",
   "execution_count": 21,
   "id": "continuous-midnight",
   "metadata": {},
   "outputs": [
    {
     "data": {
      "text/plain": [
       "array([[ 1.0567811 ,  2.90118168, -0.37370531, ..., -0.69862488,\n",
       "        -0.31949444, -0.49199125],\n",
       "       [ 0.83239093,  1.11023832, -0.67788964, ..., -0.25617622,\n",
       "        -0.25716519, -0.55033053],\n",
       "       [ 0.17077907,  1.07420333,  0.38675551, ..., -0.12976231,\n",
       "        -0.19483593, -0.55033053],\n",
       "       ...,\n",
       "       [-2.07758255, -0.8212941 ,  1.2993085 , ...,  0.31268635,\n",
       "         0.30379811,  0.26641949],\n",
       "       [ 0.44157109, -0.11639067,  0.99512417, ...,  0.37589331,\n",
       "         0.36612736,  0.32475878],\n",
       "       [ 0.22002412, -0.64891505,  1.755585  , ..., -0.69862488,\n",
       "        -0.50648221, -0.2586341 ]])"
      ]
     },
     "execution_count": 21,
     "metadata": {},
     "output_type": "execute_result"
    }
   ],
   "source": [
    "#### Scaling the data:\n",
    "\n",
    "scalar = StandardScaler()\n",
    "x_scaled_train = scalar.fit_transform(select_X_train)\n",
    "x_scaled_train"
   ]
  },
  {
   "cell_type": "code",
   "execution_count": 22,
   "id": "grateful-soccer",
   "metadata": {},
   "outputs": [
    {
     "data": {
      "text/plain": [
       "array([[ 0.5825465 ,  0.37577743,  1.14364038, ..., -0.69951284,\n",
       "        -0.19548251, -0.08516627],\n",
       "       [ 0.7131656 ,  0.14588373, -0.22328168, ..., -0.63646818,\n",
       "        -0.19548251, -0.2013609 ],\n",
       "       [ 0.2307514 , -0.78242149, -0.52704214, ..., -0.51037885,\n",
       "        -0.00935998, -0.37565285],\n",
       "       ...,\n",
       "       [ 0.7233016 ,  0.76992259,  0.83987993, ..., -0.13211088,\n",
       "        -0.13344167, -0.2013609 ],\n",
       "       [ 0.71524098,  1.61776501,  0.6879997 , ..., -0.25820021,\n",
       "        -0.50568674, -0.31755554],\n",
       "       [ 0.90691696,  2.24229255, -1.74208398, ..., -0.25820021,\n",
       "        -0.38160505, -0.31755554]])"
      ]
     },
     "execution_count": 22,
     "metadata": {},
     "output_type": "execute_result"
    }
   ],
   "source": [
    "x_scaled_test = scalar.fit_transform(select_X_test)\n",
    "x_scaled_test"
   ]
  },
  {
   "cell_type": "markdown",
   "id": "rapid-cradle",
   "metadata": {},
   "source": [
    "### Training different models :\n",
    "\n",
    "#### 1. Linear Regression :"
   ]
  },
  {
   "cell_type": "code",
   "execution_count": 23,
   "id": "worldwide-maintenance",
   "metadata": {},
   "outputs": [
    {
     "data": {
      "text/plain": [
       "LinearRegression()"
      ]
     },
     "execution_count": 23,
     "metadata": {},
     "output_type": "execute_result"
    }
   ],
   "source": [
    "linear_reg = LinearRegression()\n",
    "linear_reg.fit(x_scaled_train, y_train)"
   ]
  },
  {
   "cell_type": "code",
   "execution_count": 24,
   "id": "adjacent-guitar",
   "metadata": {},
   "outputs": [
    {
     "data": {
      "text/plain": [
       "0.8487194680891929"
      ]
     },
     "execution_count": 24,
     "metadata": {},
     "output_type": "execute_result"
    }
   ],
   "source": [
    "linear_reg.score(x_scaled_test, y_test)"
   ]
  },
  {
   "cell_type": "markdown",
   "id": "controlling-hopkins",
   "metadata": {},
   "source": [
    "##### Hyperparameter Tuning:"
   ]
  },
  {
   "cell_type": "code",
   "execution_count": 25,
   "id": "fluid-steps",
   "metadata": {},
   "outputs": [],
   "source": [
    "cv = ShuffleSplit(random_state=0)   #defining type of cross_validation(shuffle spliting)\n",
    "\n",
    "param_grid = {'n_jobs': [-1]}     #parameters for model tunning\n",
    "\n",
    "grid = GridSearchCV(linear_reg, param_grid=param_grid, cv=cv)"
   ]
  },
  {
   "cell_type": "code",
   "execution_count": 26,
   "id": "stable-bunny",
   "metadata": {},
   "outputs": [
    {
     "data": {
      "text/plain": [
       "GridSearchCV(cv=ShuffleSplit(n_splits=10, random_state=0, test_size=None, train_size=None),\n",
       "             estimator=LinearRegression(), param_grid={'n_jobs': [-1]})"
      ]
     },
     "execution_count": 26,
     "metadata": {},
     "output_type": "execute_result"
    }
   ],
   "source": [
    "grid.fit(select_X_train, y_train) "
   ]
  },
  {
   "cell_type": "code",
   "execution_count": 27,
   "id": "greater-wichita",
   "metadata": {},
   "outputs": [
    {
     "data": {
      "text/plain": [
       "{'n_jobs': -1}"
      ]
     },
     "execution_count": 27,
     "metadata": {},
     "output_type": "execute_result"
    }
   ],
   "source": [
    "grid.best_params_"
   ]
  },
  {
   "cell_type": "code",
   "execution_count": 28,
   "id": "tired-disposition",
   "metadata": {},
   "outputs": [
    {
     "data": {
      "text/plain": [
       "LinearRegression(n_jobs=-1)"
      ]
     },
     "execution_count": 28,
     "metadata": {},
     "output_type": "execute_result"
    }
   ],
   "source": [
    "grid.best_estimator_"
   ]
  },
  {
   "cell_type": "code",
   "execution_count": 29,
   "id": "unlike-yugoslavia",
   "metadata": {},
   "outputs": [
    {
     "data": {
      "text/plain": [
       "LinearRegression(n_jobs=-1)"
      ]
     },
     "execution_count": 29,
     "metadata": {},
     "output_type": "execute_result"
    }
   ],
   "source": [
    "new_linear_reg = LinearRegression(copy_X=True, fit_intercept=True, n_jobs=-1, normalize=False)\n",
    "new_linear_reg.fit(x_scaled_train, y_train)"
   ]
  },
  {
   "cell_type": "code",
   "execution_count": 30,
   "id": "spectacular-services",
   "metadata": {},
   "outputs": [
    {
     "data": {
      "text/plain": [
       "0.8487194680891929"
      ]
     },
     "execution_count": 30,
     "metadata": {},
     "output_type": "execute_result"
    }
   ],
   "source": [
    "new_linear_reg.score(x_scaled_test, y_test)"
   ]
  },
  {
   "cell_type": "markdown",
   "id": "attended-development",
   "metadata": {},
   "source": [
    "#### 2. Decision Tree :"
   ]
  },
  {
   "cell_type": "code",
   "execution_count": 31,
   "id": "willing-holder",
   "metadata": {},
   "outputs": [
    {
     "data": {
      "text/plain": [
       "DecisionTreeRegressor(random_state=0)"
      ]
     },
     "execution_count": 31,
     "metadata": {},
     "output_type": "execute_result"
    }
   ],
   "source": [
    "decision_tree = DecisionTreeRegressor(criterion='mse', random_state=0)         #estimator\n",
    "decision_tree.fit(x_scaled_train, y_train)"
   ]
  },
  {
   "cell_type": "code",
   "execution_count": 32,
   "id": "massive-windsor",
   "metadata": {},
   "outputs": [
    {
     "data": {
      "text/plain": [
       "0.9559434200536528"
      ]
     },
     "execution_count": 32,
     "metadata": {},
     "output_type": "execute_result"
    }
   ],
   "source": [
    "decision_tree.score(x_scaled_test, y_test)"
   ]
  },
  {
   "cell_type": "markdown",
   "id": "supposed-ownership",
   "metadata": {},
   "source": [
    "##### Hyperparameter Tuning:\n"
   ]
  },
  {
   "cell_type": "code",
   "execution_count": 33,
   "id": "hungarian-machinery",
   "metadata": {},
   "outputs": [],
   "source": [
    "cv = ShuffleSplit(n_splits=10, random_state=42)        #cross validation\n",
    "\n",
    "param_grid = {'max_depth': [3, 5, 7, 9, 13],\n",
    "             'criterion': ['mse', 'friedman_mse']}\n",
    "\n",
    "grid = GridSearchCV(decision_tree, param_grid=param_grid, cv=cv)"
   ]
  },
  {
   "cell_type": "code",
   "execution_count": 34,
   "id": "distant-butler",
   "metadata": {},
   "outputs": [
    {
     "data": {
      "text/plain": [
       "GridSearchCV(cv=ShuffleSplit(n_splits=10, random_state=42, test_size=None, train_size=None),\n",
       "             estimator=DecisionTreeRegressor(random_state=0),\n",
       "             param_grid={'criterion': ['mse', 'friedman_mse'],\n",
       "                         'max_depth': [3, 5, 7, 9, 13]})"
      ]
     },
     "execution_count": 34,
     "metadata": {},
     "output_type": "execute_result"
    }
   ],
   "source": [
    "grid.fit(select_X_train, y_train)          #training"
   ]
  },
  {
   "cell_type": "code",
   "execution_count": 35,
   "id": "tamil-berkeley",
   "metadata": {},
   "outputs": [
    {
     "data": {
      "text/plain": [
       "{'criterion': 'friedman_mse', 'max_depth': 13}"
      ]
     },
     "execution_count": 35,
     "metadata": {},
     "output_type": "execute_result"
    }
   ],
   "source": [
    "grid.best_params_"
   ]
  },
  {
   "cell_type": "code",
   "execution_count": 36,
   "id": "cosmetic-image",
   "metadata": {},
   "outputs": [
    {
     "data": {
      "text/plain": [
       "DecisionTreeRegressor(criterion='friedman_mse', max_depth=13, random_state=0)"
      ]
     },
     "execution_count": 36,
     "metadata": {},
     "output_type": "execute_result"
    }
   ],
   "source": [
    "grid.best_estimator_"
   ]
  },
  {
   "cell_type": "code",
   "execution_count": 37,
   "id": "behind-russia",
   "metadata": {},
   "outputs": [
    {
     "name": "stderr",
     "output_type": "stream",
     "text": [
      "C:\\Users\\sheka\\anaconda3\\envs\\tensorflow\\lib\\site-packages\\sklearn\\tree\\_classes.py:323: FutureWarning: The parameter 'presort' is deprecated and has no effect. It will be removed in v0.24. You can suppress this warning by not passing any value to the 'presort' parameter.\n",
      "  warnings.warn(\"The parameter 'presort' is deprecated and has no \"\n"
     ]
    },
    {
     "data": {
      "text/plain": [
       "DecisionTreeRegressor(criterion='friedman_mse', max_depth=13, presort=False,\n",
       "                      random_state=0)"
      ]
     },
     "execution_count": 37,
     "metadata": {},
     "output_type": "execute_result"
    }
   ],
   "source": [
    "new_deci_tree = DecisionTreeRegressor(criterion='friedman_mse', max_depth=13,\n",
    "           max_features=None, max_leaf_nodes=None,\n",
    "           min_impurity_decrease=0.0, min_impurity_split=None,\n",
    "           min_samples_leaf=1, min_samples_split=2,\n",
    "           min_weight_fraction_leaf=0.0, presort=False, random_state=0,\n",
    "           splitter='best')\n",
    "new_deci_tree.fit(x_scaled_train, y_train)"
   ]
  },
  {
   "cell_type": "code",
   "execution_count": 38,
   "id": "czech-netherlands",
   "metadata": {},
   "outputs": [
    {
     "data": {
      "text/plain": [
       "0.9278843292016608"
      ]
     },
     "execution_count": 38,
     "metadata": {},
     "output_type": "execute_result"
    }
   ],
   "source": [
    "new_deci_tree.score(x_scaled_test, y_test)"
   ]
  },
  {
   "cell_type": "markdown",
   "id": "structural-hospital",
   "metadata": {},
   "source": [
    "#### 3. Random Forest"
   ]
  },
  {
   "cell_type": "code",
   "execution_count": 39,
   "id": "wanted-temperature",
   "metadata": {},
   "outputs": [
    {
     "data": {
      "text/plain": [
       "RandomForestRegressor(random_state=123)"
      ]
     },
     "execution_count": 39,
     "metadata": {},
     "output_type": "execute_result"
    }
   ],
   "source": [
    "rand_forest = RandomForestRegressor(random_state=123)\n",
    "rand_forest.fit(x_scaled_train, y_train)"
   ]
  },
  {
   "cell_type": "code",
   "execution_count": 40,
   "id": "collected-server",
   "metadata": {},
   "outputs": [
    {
     "data": {
      "text/plain": [
       "0.9797116517014308"
      ]
     },
     "execution_count": 40,
     "metadata": {},
     "output_type": "execute_result"
    }
   ],
   "source": [
    "rand_forest.score(x_scaled_test, y_test)"
   ]
  },
  {
   "cell_type": "markdown",
   "id": "registered-characteristic",
   "metadata": {},
   "source": [
    "##### Hyperparameter Tuning:"
   ]
  },
  {
   "cell_type": "code",
   "execution_count": 41,
   "id": "matched-casting",
   "metadata": {},
   "outputs": [],
   "source": [
    "cv = ShuffleSplit(test_size=0.2, random_state=0)\n",
    "\n",
    "param_grid = {'max_features':['sqrt', 'log2', 10],\n",
    "              'max_depth':[9, 11, 13]}                 \n",
    "\n",
    "grid = GridSearchCV(rand_forest, param_grid=param_grid, cv=cv)"
   ]
  },
  {
   "cell_type": "code",
   "execution_count": 42,
   "id": "verified-family",
   "metadata": {},
   "outputs": [
    {
     "data": {
      "text/plain": [
       "GridSearchCV(cv=ShuffleSplit(n_splits=10, random_state=0, test_size=0.2, train_size=None),\n",
       "             estimator=RandomForestRegressor(random_state=123),\n",
       "             param_grid={'max_depth': [9, 11, 13],\n",
       "                         'max_features': ['sqrt', 'log2', 10]})"
      ]
     },
     "execution_count": 42,
     "metadata": {},
     "output_type": "execute_result"
    }
   ],
   "source": [
    "grid.fit(x_scaled_train, y_train)"
   ]
  },
  {
   "cell_type": "code",
   "execution_count": 43,
   "id": "progressive-parameter",
   "metadata": {},
   "outputs": [
    {
     "data": {
      "text/plain": [
       "RandomForestRegressor(max_depth=13, max_features=10, random_state=123)"
      ]
     },
     "execution_count": 43,
     "metadata": {},
     "output_type": "execute_result"
    }
   ],
   "source": [
    " grid.best_estimator_"
   ]
  },
  {
   "cell_type": "code",
   "execution_count": 44,
   "id": "floating-implement",
   "metadata": {},
   "outputs": [
    {
     "data": {
      "text/plain": [
       "RandomForestRegressor(max_depth=13, max_features=10, n_estimators=10, n_jobs=1,\n",
       "                      random_state=123)"
      ]
     },
     "execution_count": 44,
     "metadata": {},
     "output_type": "execute_result"
    }
   ],
   "source": [
    "new_rand_forest = RandomForestRegressor(bootstrap=True, criterion='mse', max_depth=13,\n",
    "           max_features=10, max_leaf_nodes=None, min_impurity_decrease=0.0,\n",
    "           min_impurity_split=None, min_samples_leaf=1,\n",
    "           min_samples_split=2, min_weight_fraction_leaf=0.0,\n",
    "           n_estimators=10, n_jobs=1, oob_score=False, random_state=123,\n",
    "           verbose=0, warm_start=False)\n",
    "new_rand_forest.fit(x_scaled_train, y_train)"
   ]
  },
  {
   "cell_type": "code",
   "execution_count": 45,
   "id": "liable-timer",
   "metadata": {},
   "outputs": [
    {
     "data": {
      "text/plain": [
       "0.9562677901623962"
      ]
     },
     "execution_count": 45,
     "metadata": {},
     "output_type": "execute_result"
    }
   ],
   "source": [
    "new_rand_forest.score(x_scaled_test, y_test)\n"
   ]
  },
  {
   "cell_type": "markdown",
   "id": "stopped-proceeding",
   "metadata": {},
   "source": [
    "#### 4. Xgboost regressor :\n"
   ]
  },
  {
   "cell_type": "code",
   "execution_count": 46,
   "id": "provincial-columbia",
   "metadata": {},
   "outputs": [
    {
     "data": {
      "text/plain": [
       "XGBRegressor(base_score=0.5, booster='gbtree', callbacks=None,\n",
       "             colsample_bylevel=1, colsample_bynode=1, colsample_bytree=1,\n",
       "             early_stopping_rounds=None, enable_categorical=False,\n",
       "             eval_metric=None, gamma=0, gpu_id=-1, grow_policy='depthwise',\n",
       "             importance_type=None, interaction_constraints='',\n",
       "             learning_rate=0.300000012, max_bin=256, max_cat_to_onehot=4,\n",
       "             max_delta_step=0, max_depth=6, max_leaves=0, min_child_weight=1,\n",
       "             missing=nan, monotone_constraints='()', n_estimators=100, n_jobs=0,\n",
       "             num_parallel_tree=1, predictor='auto', random_state=42,\n",
       "             reg_alpha=0, reg_lambda=1, ...)"
      ]
     },
     "execution_count": 46,
     "metadata": {},
     "output_type": "execute_result"
    }
   ],
   "source": [
    "xgr = XGBRegressor(random_state=42)\n",
    "xgr.fit(x_scaled_train, y_train)"
   ]
  },
  {
   "cell_type": "code",
   "execution_count": 47,
   "id": "pharmaceutical-teddy",
   "metadata": {},
   "outputs": [
    {
     "data": {
      "text/plain": [
       "0.9612268302162874"
      ]
     },
     "execution_count": 47,
     "metadata": {},
     "output_type": "execute_result"
    }
   ],
   "source": [
    "xgr.score(x_scaled_test, y_test)"
   ]
  },
  {
   "cell_type": "markdown",
   "id": "initial-little",
   "metadata": {},
   "source": [
    "##### Hyperparameter Tuning:\n",
    "\n"
   ]
  },
  {
   "cell_type": "code",
   "execution_count": 48,
   "id": "developing-brunswick",
   "metadata": {},
   "outputs": [],
   "source": [
    "cv = ShuffleSplit(n_splits=10, random_state=0)\n",
    "\n",
    "param_grid = {'max_depth': [5, 7],\n",
    "              'learning_rate': [0.1, 0.3]}\n",
    "\n",
    "grid = GridSearchCV(xgr, param_grid=param_grid, cv=cv, n_jobs= -1)"
   ]
  },
  {
   "cell_type": "code",
   "execution_count": 49,
   "id": "elder-familiar",
   "metadata": {},
   "outputs": [
    {
     "data": {
      "text/plain": [
       "GridSearchCV(cv=ShuffleSplit(n_splits=10, random_state=0, test_size=None, train_size=None),\n",
       "             estimator=XGBRegressor(base_score=0.5, booster='gbtree',\n",
       "                                    callbacks=None, colsample_bylevel=1,\n",
       "                                    colsample_bynode=1, colsample_bytree=1,\n",
       "                                    early_stopping_rounds=None,\n",
       "                                    enable_categorical=False, eval_metric=None,\n",
       "                                    gamma=0, gpu_id=-1, grow_policy='depthwise',\n",
       "                                    importance_type=None,\n",
       "                                    in...n_constraints='',\n",
       "                                    learning_rate=0.300000012, max_bin=256,\n",
       "                                    max_cat_to_onehot=4, max_delta_step=0,\n",
       "                                    max_depth=6, max_leaves=0,\n",
       "                                    min_child_weight=1, missing=nan,\n",
       "                                    monotone_constraints='()', n_estimators=100,\n",
       "                                    n_jobs=0, num_parallel_tree=1,\n",
       "                                    predictor='auto', random_state=42,\n",
       "                                    reg_alpha=0, reg_lambda=1, ...),\n",
       "             n_jobs=-1,\n",
       "             param_grid={'learning_rate': [0.1, 0.3], 'max_depth': [5, 7]})"
      ]
     },
     "execution_count": 49,
     "metadata": {},
     "output_type": "execute_result"
    }
   ],
   "source": [
    "grid.fit(x_scaled_train, y_train)"
   ]
  },
  {
   "cell_type": "code",
   "execution_count": 50,
   "id": "exotic-flavor",
   "metadata": {},
   "outputs": [
    {
     "data": {
      "text/plain": [
       "XGBRegressor(base_score=0.5, booster='gbtree', callbacks=None,\n",
       "             colsample_bylevel=1, colsample_bynode=1, colsample_bytree=1,\n",
       "             early_stopping_rounds=None, enable_categorical=False,\n",
       "             eval_metric=None, gamma=0, gpu_id=-1, grow_policy='depthwise',\n",
       "             importance_type=None, interaction_constraints='',\n",
       "             learning_rate=0.3, max_bin=256, max_cat_to_onehot=4,\n",
       "             max_delta_step=0, max_depth=7, max_leaves=0, min_child_weight=1,\n",
       "             missing=nan, monotone_constraints='()', n_estimators=100, n_jobs=0,\n",
       "             num_parallel_tree=1, predictor='auto', random_state=42,\n",
       "             reg_alpha=0, reg_lambda=1, ...)"
      ]
     },
     "execution_count": 50,
     "metadata": {},
     "output_type": "execute_result"
    }
   ],
   "source": [
    "grid.best_estimator_"
   ]
  },
  {
   "cell_type": "code",
   "execution_count": 58,
   "id": "liberal-brush",
   "metadata": {},
   "outputs": [],
   "source": [
    "new_xgr = XGBRegressor(base_score=0.5, booster='gbtree', colsample_bylevel=1,\n",
    "             colsample_bynode=1, colsample_bytree=1, gamma=0,\n",
    "             importance_type='gain', learning_rate=0.3, max_delta_step=0,\n",
    "             max_depth=7, min_child_weight=1, missing=1, n_estimators=100,\n",
    "             n_jobs=1, nthread=None, objective='reg:linear', random_state=42,\n",
    "             reg_alpha=0, reg_lambda=1, scale_pos_weight=1, seed=None,\n",
    "             silent=None, subsample=1, verbosity=1)"
   ]
  },
  {
   "cell_type": "code",
   "execution_count": 59,
   "id": "photographic-catering",
   "metadata": {},
   "outputs": [
    {
     "name": "stdout",
     "output_type": "stream",
     "text": [
      "[12:25:07] WARNING: C:/Users/Administrator/workspace/xgboost-win64_release_1.6.0/src/objective/regression_obj.cu:203: reg:linear is now deprecated in favor of reg:squarederror.\n"
     ]
    },
    {
     "data": {
      "text/plain": [
       "XGBRegressor(base_score=0.5, booster='gbtree', callbacks=None,\n",
       "             colsample_bylevel=1, colsample_bynode=1, colsample_bytree=1,\n",
       "             early_stopping_rounds=None, enable_categorical=False,\n",
       "             eval_metric=None, gamma=0, gpu_id=-1, grow_policy='depthwise',\n",
       "             importance_type='gain', interaction_constraints='',\n",
       "             learning_rate=0.3, max_bin=256, max_cat_to_onehot=4,\n",
       "             max_delta_step=0, max_depth=7, max_leaves=0, min_child_weight=1,\n",
       "             missing=1, monotone_constraints='()', n_estimators=100, n_jobs=1,\n",
       "             nthread=1, num_parallel_tree=1, objective='reg:linear',\n",
       "             predictor='auto', random_state=42, ...)"
      ]
     },
     "execution_count": 59,
     "metadata": {},
     "output_type": "execute_result"
    }
   ],
   "source": [
    "new_xgr.fit(x_scaled_train, y_train)"
   ]
  },
  {
   "cell_type": "code",
   "execution_count": 60,
   "id": "unique-hotel",
   "metadata": {},
   "outputs": [
    {
     "data": {
      "text/plain": [
       "0.9652303415162796"
      ]
     },
     "execution_count": 60,
     "metadata": {},
     "output_type": "execute_result"
    }
   ],
   "source": [
    "new_xgr.score(x_scaled_test, y_test)"
   ]
  },
  {
   "cell_type": "code",
   "execution_count": 61,
   "id": "about-thousand",
   "metadata": {},
   "outputs": [
    {
     "name": "stdout",
     "output_type": "stream",
     "text": [
      "Linear Regressor accuracy is 0.8487194680891929\n",
      "DecisionTree Regressor accuracy is 0.9278843292016608\n",
      "RandomForest regressor accuracy is 0.9562677901623962\n",
      "XGBoost regressor accuracy is 0.9652303415162796\n"
     ]
    }
   ],
   "source": [
    "print(\"\"\"Linear Regressor accuracy is {lin}\n",
    "DecisionTree Regressor accuracy is {Dec}\n",
    "RandomForest regressor accuracy is {ran}\n",
    "XGBoost regressor accuracy is {xgb}\"\"\".format(lin=new_linear_reg.score(x_scaled_test, y_test),\n",
    "                                                       Dec=new_deci_tree.score(x_scaled_test, y_test),\n",
    "                                                       ran=new_rand_forest.score(x_scaled_test, y_test),\n",
    "                                                       xgb=new_xgr.score(x_scaled_test, y_test)))"
   ]
  },
  {
   "cell_type": "markdown",
   "id": "altered-stone",
   "metadata": {},
   "source": [
    "###### By accuracy comparision performed above we can say hear that XGBoost regressor gives better result than any other model. and it can predict the target function with approx 97% accuracy."
   ]
  }
 ],
 "metadata": {
  "kernelspec": {
   "display_name": "Python 3",
   "language": "python",
   "name": "python3"
  },
  "language_info": {
   "codemirror_mode": {
    "name": "ipython",
    "version": 3
   },
   "file_extension": ".py",
   "mimetype": "text/x-python",
   "name": "python",
   "nbconvert_exporter": "python",
   "pygments_lexer": "ipython3",
   "version": "3.8.5"
  }
 },
 "nbformat": 4,
 "nbformat_minor": 5
}
